{
 "cells": [
  {
   "cell_type": "code",
   "execution_count": 1,
   "id": "f2e60ddb",
   "metadata": {},
   "outputs": [],
   "source": [
    "import numpy as np\n",
    "import pandas as pd\n",
    "import seaborn as sns\n",
    "import statsmodels.api as sm\n",
    "import matplotlib.pyplot as plt\n",
    "%matplotlib inline\n",
    "\n",
    "from sklearn import preprocessing\n",
    "from sklearn import utils\n",
    "\n",
    "import sklearn.metrics as metrics\n",
    "from sklearn.model_selection import train_test_split\n",
    "from sklearn import metrics\n",
    "from sklearn import neighbors\n",
    "from sklearn.preprocessing import StandardScaler\n",
    "from sklearn.model_selection import KFold\n",
    "from sklearn.linear_model import LogisticRegression\n",
    "from sklearn.tree import DecisionTreeClassifier\n",
    "from sklearn import tree\n",
    "from sklearn.ensemble import RandomForestClassifier\n",
    "from sklearn.svm import SVC\n",
    "from sklearn.neighbors import KNeighborsClassifier\n",
    "from sklearn.naive_bayes import GaussianNB\n",
    "from sklearn.tree import DecisionTreeRegressor\n",
    "from sklearn.preprocessing import PolynomialFeatures\n",
    "from sklearn.linear_model import LinearRegression\n",
    "from sklearn.svm import SVR\n",
    "\n",
    "from sklearn.metrics import accuracy_score\n",
    "\n",
    "#from sklearn import datasets\n",
    "from sklearn.model_selection import cross_val_score # for cross validation purpose\n",
    "from sklearn.model_selection import cross_validate # for cross validation and multiple evaluation\n",
    "from sklearn.metrics import confusion_matrix\n",
    "#%reload_ext memory_profiler"
   ]
  },
  {
   "cell_type": "markdown",
   "id": "238035d4",
   "metadata": {},
   "source": [
    "# Load dataset"
   ]
  },
  {
   "cell_type": "code",
   "execution_count": 2,
   "id": "67129c2f",
   "metadata": {},
   "outputs": [
    {
     "data": {
      "text/html": [
       "<div>\n",
       "<style scoped>\n",
       "    .dataframe tbody tr th:only-of-type {\n",
       "        vertical-align: middle;\n",
       "    }\n",
       "\n",
       "    .dataframe tbody tr th {\n",
       "        vertical-align: top;\n",
       "    }\n",
       "\n",
       "    .dataframe thead th {\n",
       "        text-align: right;\n",
       "    }\n",
       "</style>\n",
       "<table border=\"1\" class=\"dataframe\">\n",
       "  <thead>\n",
       "    <tr style=\"text-align: right;\">\n",
       "      <th></th>\n",
       "      <th>customerID</th>\n",
       "      <th>gender</th>\n",
       "      <th>SeniorCitizen</th>\n",
       "      <th>Partner</th>\n",
       "      <th>Dependents</th>\n",
       "      <th>tenure</th>\n",
       "      <th>PhoneService</th>\n",
       "      <th>MultipleLines</th>\n",
       "      <th>InternetService</th>\n",
       "      <th>OnlineSecurity</th>\n",
       "      <th>...</th>\n",
       "      <th>DeviceProtection</th>\n",
       "      <th>TechSupport</th>\n",
       "      <th>StreamingTV</th>\n",
       "      <th>StreamingMovies</th>\n",
       "      <th>Contract</th>\n",
       "      <th>PaperlessBilling</th>\n",
       "      <th>PaymentMethod</th>\n",
       "      <th>MonthlyCharges</th>\n",
       "      <th>TotalCharges</th>\n",
       "      <th>Churn</th>\n",
       "    </tr>\n",
       "  </thead>\n",
       "  <tbody>\n",
       "    <tr>\n",
       "      <th>0</th>\n",
       "      <td>7590-VHVEG</td>\n",
       "      <td>Female</td>\n",
       "      <td>0</td>\n",
       "      <td>Yes</td>\n",
       "      <td>No</td>\n",
       "      <td>1</td>\n",
       "      <td>No</td>\n",
       "      <td>No phone service</td>\n",
       "      <td>DSL</td>\n",
       "      <td>No</td>\n",
       "      <td>...</td>\n",
       "      <td>No</td>\n",
       "      <td>No</td>\n",
       "      <td>No</td>\n",
       "      <td>No</td>\n",
       "      <td>Month-to-month</td>\n",
       "      <td>Yes</td>\n",
       "      <td>Electronic check</td>\n",
       "      <td>29.85</td>\n",
       "      <td>29.85</td>\n",
       "      <td>No</td>\n",
       "    </tr>\n",
       "    <tr>\n",
       "      <th>1</th>\n",
       "      <td>5575-GNVDE</td>\n",
       "      <td>Male</td>\n",
       "      <td>0</td>\n",
       "      <td>No</td>\n",
       "      <td>No</td>\n",
       "      <td>34</td>\n",
       "      <td>Yes</td>\n",
       "      <td>No</td>\n",
       "      <td>DSL</td>\n",
       "      <td>Yes</td>\n",
       "      <td>...</td>\n",
       "      <td>Yes</td>\n",
       "      <td>No</td>\n",
       "      <td>No</td>\n",
       "      <td>No</td>\n",
       "      <td>One year</td>\n",
       "      <td>No</td>\n",
       "      <td>Mailed check</td>\n",
       "      <td>56.95</td>\n",
       "      <td>1889.5</td>\n",
       "      <td>No</td>\n",
       "    </tr>\n",
       "    <tr>\n",
       "      <th>2</th>\n",
       "      <td>3668-QPYBK</td>\n",
       "      <td>Male</td>\n",
       "      <td>0</td>\n",
       "      <td>No</td>\n",
       "      <td>No</td>\n",
       "      <td>2</td>\n",
       "      <td>Yes</td>\n",
       "      <td>No</td>\n",
       "      <td>DSL</td>\n",
       "      <td>Yes</td>\n",
       "      <td>...</td>\n",
       "      <td>No</td>\n",
       "      <td>No</td>\n",
       "      <td>No</td>\n",
       "      <td>No</td>\n",
       "      <td>Month-to-month</td>\n",
       "      <td>Yes</td>\n",
       "      <td>Mailed check</td>\n",
       "      <td>53.85</td>\n",
       "      <td>108.15</td>\n",
       "      <td>Yes</td>\n",
       "    </tr>\n",
       "    <tr>\n",
       "      <th>3</th>\n",
       "      <td>7795-CFOCW</td>\n",
       "      <td>Male</td>\n",
       "      <td>0</td>\n",
       "      <td>No</td>\n",
       "      <td>No</td>\n",
       "      <td>45</td>\n",
       "      <td>No</td>\n",
       "      <td>No phone service</td>\n",
       "      <td>DSL</td>\n",
       "      <td>Yes</td>\n",
       "      <td>...</td>\n",
       "      <td>Yes</td>\n",
       "      <td>Yes</td>\n",
       "      <td>No</td>\n",
       "      <td>No</td>\n",
       "      <td>One year</td>\n",
       "      <td>No</td>\n",
       "      <td>Bank transfer (automatic)</td>\n",
       "      <td>42.30</td>\n",
       "      <td>1840.75</td>\n",
       "      <td>No</td>\n",
       "    </tr>\n",
       "    <tr>\n",
       "      <th>4</th>\n",
       "      <td>9237-HQITU</td>\n",
       "      <td>Female</td>\n",
       "      <td>0</td>\n",
       "      <td>No</td>\n",
       "      <td>No</td>\n",
       "      <td>2</td>\n",
       "      <td>Yes</td>\n",
       "      <td>No</td>\n",
       "      <td>Fiber optic</td>\n",
       "      <td>No</td>\n",
       "      <td>...</td>\n",
       "      <td>No</td>\n",
       "      <td>No</td>\n",
       "      <td>No</td>\n",
       "      <td>No</td>\n",
       "      <td>Month-to-month</td>\n",
       "      <td>Yes</td>\n",
       "      <td>Electronic check</td>\n",
       "      <td>70.70</td>\n",
       "      <td>151.65</td>\n",
       "      <td>Yes</td>\n",
       "    </tr>\n",
       "  </tbody>\n",
       "</table>\n",
       "<p>5 rows × 21 columns</p>\n",
       "</div>"
      ],
      "text/plain": [
       "   customerID  gender  SeniorCitizen Partner Dependents  tenure PhoneService  \\\n",
       "0  7590-VHVEG  Female              0     Yes         No       1           No   \n",
       "1  5575-GNVDE    Male              0      No         No      34          Yes   \n",
       "2  3668-QPYBK    Male              0      No         No       2          Yes   \n",
       "3  7795-CFOCW    Male              0      No         No      45           No   \n",
       "4  9237-HQITU  Female              0      No         No       2          Yes   \n",
       "\n",
       "      MultipleLines InternetService OnlineSecurity  ... DeviceProtection  \\\n",
       "0  No phone service             DSL             No  ...               No   \n",
       "1                No             DSL            Yes  ...              Yes   \n",
       "2                No             DSL            Yes  ...               No   \n",
       "3  No phone service             DSL            Yes  ...              Yes   \n",
       "4                No     Fiber optic             No  ...               No   \n",
       "\n",
       "  TechSupport StreamingTV StreamingMovies        Contract PaperlessBilling  \\\n",
       "0          No          No              No  Month-to-month              Yes   \n",
       "1          No          No              No        One year               No   \n",
       "2          No          No              No  Month-to-month              Yes   \n",
       "3         Yes          No              No        One year               No   \n",
       "4          No          No              No  Month-to-month              Yes   \n",
       "\n",
       "               PaymentMethod MonthlyCharges  TotalCharges Churn  \n",
       "0           Electronic check          29.85         29.85    No  \n",
       "1               Mailed check          56.95        1889.5    No  \n",
       "2               Mailed check          53.85        108.15   Yes  \n",
       "3  Bank transfer (automatic)          42.30       1840.75    No  \n",
       "4           Electronic check          70.70        151.65   Yes  \n",
       "\n",
       "[5 rows x 21 columns]"
      ]
     },
     "execution_count": 2,
     "metadata": {},
     "output_type": "execute_result"
    }
   ],
   "source": [
    "churn_data = pd.read_csv(r'C:\\Users\\Ch. Muhammad Sajjad\\Desktop\\Bilal Data\\Dataset for classification (1)/WA_Fn-UseC_-Telco-Customer-Churn.csv')\n",
    "churn_data.head()"
   ]
  },
  {
   "cell_type": "markdown",
   "id": "1afeb07a",
   "metadata": {},
   "source": [
    "# Exploratory data analysis ---Data preprocessing"
   ]
  },
  {
   "cell_type": "code",
   "execution_count": 3,
   "id": "6b3a3128",
   "metadata": {},
   "outputs": [
    {
     "name": "stdout",
     "output_type": "stream",
     "text": [
      "<class 'pandas.core.frame.DataFrame'>\n",
      "RangeIndex: 7043 entries, 0 to 7042\n",
      "Data columns (total 21 columns):\n",
      " #   Column            Non-Null Count  Dtype  \n",
      "---  ------            --------------  -----  \n",
      " 0   customerID        7043 non-null   object \n",
      " 1   gender            7043 non-null   object \n",
      " 2   SeniorCitizen     7043 non-null   int64  \n",
      " 3   Partner           7043 non-null   object \n",
      " 4   Dependents        7043 non-null   object \n",
      " 5   tenure            7043 non-null   int64  \n",
      " 6   PhoneService      7043 non-null   object \n",
      " 7   MultipleLines     7043 non-null   object \n",
      " 8   InternetService   7043 non-null   object \n",
      " 9   OnlineSecurity    7043 non-null   object \n",
      " 10  OnlineBackup      7043 non-null   object \n",
      " 11  DeviceProtection  7043 non-null   object \n",
      " 12  TechSupport       7043 non-null   object \n",
      " 13  StreamingTV       7043 non-null   object \n",
      " 14  StreamingMovies   7043 non-null   object \n",
      " 15  Contract          7043 non-null   object \n",
      " 16  PaperlessBilling  7043 non-null   object \n",
      " 17  PaymentMethod     7043 non-null   object \n",
      " 18  MonthlyCharges    7043 non-null   float64\n",
      " 19  TotalCharges      7043 non-null   object \n",
      " 20  Churn             7043 non-null   object \n",
      "dtypes: float64(1), int64(2), object(18)\n",
      "memory usage: 1.1+ MB\n"
     ]
    }
   ],
   "source": [
    "churn_data.info()"
   ]
  },
  {
   "cell_type": "code",
   "execution_count": 4,
   "id": "1aaa9f7a",
   "metadata": {},
   "outputs": [
    {
     "data": {
      "text/html": [
       "<div>\n",
       "<style scoped>\n",
       "    .dataframe tbody tr th:only-of-type {\n",
       "        vertical-align: middle;\n",
       "    }\n",
       "\n",
       "    .dataframe tbody tr th {\n",
       "        vertical-align: top;\n",
       "    }\n",
       "\n",
       "    .dataframe thead th {\n",
       "        text-align: right;\n",
       "    }\n",
       "</style>\n",
       "<table border=\"1\" class=\"dataframe\">\n",
       "  <thead>\n",
       "    <tr style=\"text-align: right;\">\n",
       "      <th></th>\n",
       "      <th>SeniorCitizen</th>\n",
       "      <th>tenure</th>\n",
       "      <th>MonthlyCharges</th>\n",
       "    </tr>\n",
       "  </thead>\n",
       "  <tbody>\n",
       "    <tr>\n",
       "      <th>count</th>\n",
       "      <td>7043.000000</td>\n",
       "      <td>7043.000000</td>\n",
       "      <td>7043.000000</td>\n",
       "    </tr>\n",
       "    <tr>\n",
       "      <th>mean</th>\n",
       "      <td>0.162147</td>\n",
       "      <td>32.371149</td>\n",
       "      <td>64.761692</td>\n",
       "    </tr>\n",
       "    <tr>\n",
       "      <th>std</th>\n",
       "      <td>0.368612</td>\n",
       "      <td>24.559481</td>\n",
       "      <td>30.090047</td>\n",
       "    </tr>\n",
       "    <tr>\n",
       "      <th>min</th>\n",
       "      <td>0.000000</td>\n",
       "      <td>0.000000</td>\n",
       "      <td>18.250000</td>\n",
       "    </tr>\n",
       "    <tr>\n",
       "      <th>25%</th>\n",
       "      <td>0.000000</td>\n",
       "      <td>9.000000</td>\n",
       "      <td>35.500000</td>\n",
       "    </tr>\n",
       "    <tr>\n",
       "      <th>50%</th>\n",
       "      <td>0.000000</td>\n",
       "      <td>29.000000</td>\n",
       "      <td>70.350000</td>\n",
       "    </tr>\n",
       "    <tr>\n",
       "      <th>75%</th>\n",
       "      <td>0.000000</td>\n",
       "      <td>55.000000</td>\n",
       "      <td>89.850000</td>\n",
       "    </tr>\n",
       "    <tr>\n",
       "      <th>max</th>\n",
       "      <td>1.000000</td>\n",
       "      <td>72.000000</td>\n",
       "      <td>118.750000</td>\n",
       "    </tr>\n",
       "  </tbody>\n",
       "</table>\n",
       "</div>"
      ],
      "text/plain": [
       "       SeniorCitizen       tenure  MonthlyCharges\n",
       "count    7043.000000  7043.000000     7043.000000\n",
       "mean        0.162147    32.371149       64.761692\n",
       "std         0.368612    24.559481       30.090047\n",
       "min         0.000000     0.000000       18.250000\n",
       "25%         0.000000     9.000000       35.500000\n",
       "50%         0.000000    29.000000       70.350000\n",
       "75%         0.000000    55.000000       89.850000\n",
       "max         1.000000    72.000000      118.750000"
      ]
     },
     "execution_count": 4,
     "metadata": {},
     "output_type": "execute_result"
    }
   ],
   "source": [
    "churn_data.describe()"
   ]
  },
  {
   "cell_type": "code",
   "execution_count": 5,
   "id": "83712930",
   "metadata": {},
   "outputs": [
    {
     "name": "stdout",
     "output_type": "stream",
     "text": [
      "0\n"
     ]
    }
   ],
   "source": [
    "print(churn_data.duplicated().sum())"
   ]
  },
  {
   "cell_type": "code",
   "execution_count": 6,
   "id": "ac8ce790",
   "metadata": {},
   "outputs": [
    {
     "data": {
      "text/plain": [
       "(7043, 21)"
      ]
     },
     "execution_count": 6,
     "metadata": {},
     "output_type": "execute_result"
    }
   ],
   "source": [
    "churn_data.shape"
   ]
  },
  {
   "cell_type": "code",
   "execution_count": 7,
   "id": "2dfc892a",
   "metadata": {},
   "outputs": [
    {
     "name": "stdout",
     "output_type": "stream",
     "text": [
      "customerID          0\n",
      "gender              0\n",
      "SeniorCitizen       0\n",
      "Partner             0\n",
      "Dependents          0\n",
      "tenure              0\n",
      "PhoneService        0\n",
      "MultipleLines       0\n",
      "InternetService     0\n",
      "OnlineSecurity      0\n",
      "OnlineBackup        0\n",
      "DeviceProtection    0\n",
      "TechSupport         0\n",
      "StreamingTV         0\n",
      "StreamingMovies     0\n",
      "Contract            0\n",
      "PaperlessBilling    0\n",
      "PaymentMethod       0\n",
      "MonthlyCharges      0\n",
      "TotalCharges        0\n",
      "Churn               0\n",
      "dtype: int64\n"
     ]
    }
   ],
   "source": [
    "print(churn_data.isnull().sum())"
   ]
  },
  {
   "cell_type": "code",
   "execution_count": 8,
   "id": "6edae040",
   "metadata": {
    "scrolled": true
   },
   "outputs": [
    {
     "name": "stdout",
     "output_type": "stream",
     "text": [
      "customerID          0\n",
      "gender              0\n",
      "SeniorCitizen       0\n",
      "Partner             0\n",
      "Dependents          0\n",
      "tenure              0\n",
      "PhoneService        0\n",
      "MultipleLines       0\n",
      "InternetService     0\n",
      "OnlineSecurity      0\n",
      "OnlineBackup        0\n",
      "DeviceProtection    0\n",
      "TechSupport         0\n",
      "StreamingTV         0\n",
      "StreamingMovies     0\n",
      "Contract            0\n",
      "PaperlessBilling    0\n",
      "PaymentMethod       0\n",
      "MonthlyCharges      0\n",
      "TotalCharges        0\n",
      "Churn               0\n",
      "dtype: int64\n"
     ]
    }
   ],
   "source": [
    "print(churn_data.isna().sum())"
   ]
  },
  {
   "cell_type": "code",
   "execution_count": 9,
   "id": "c0bc75fc",
   "metadata": {},
   "outputs": [
    {
     "data": {
      "text/plain": [
       "Index(['customerID', 'gender', 'SeniorCitizen', 'Partner', 'Dependents',\n",
       "       'tenure', 'PhoneService', 'MultipleLines', 'InternetService',\n",
       "       'OnlineSecurity', 'OnlineBackup', 'DeviceProtection', 'TechSupport',\n",
       "       'StreamingTV', 'StreamingMovies', 'Contract', 'PaperlessBilling',\n",
       "       'PaymentMethod', 'MonthlyCharges', 'TotalCharges', 'Churn'],\n",
       "      dtype='object')"
      ]
     },
     "execution_count": 9,
     "metadata": {},
     "output_type": "execute_result"
    }
   ],
   "source": [
    "churn_data.columns"
   ]
  },
  {
   "cell_type": "markdown",
   "id": "124b80e0",
   "metadata": {},
   "source": [
    "# Dropping irrelevant column"
   ]
  },
  {
   "cell_type": "code",
   "execution_count": 10,
   "id": "2020ded7",
   "metadata": {},
   "outputs": [],
   "source": [
    "churn_data.drop(columns = ['customerID'], inplace = True)"
   ]
  },
  {
   "cell_type": "markdown",
   "id": "f73a98e4",
   "metadata": {},
   "source": [
    "# Mapping variables"
   ]
  },
  {
   "cell_type": "code",
   "execution_count": 11,
   "id": "551042f4",
   "metadata": {},
   "outputs": [],
   "source": [
    "churn_data['gender']= churn_data['gender'].map({'Female':1,'Male':0})\n",
    "churn_data['Partner']= churn_data['Partner'].map({'Yes':1,'No':0})\n",
    "churn_data['Dependents']= churn_data['Dependents'].map({'Yes':1,'No':0})\n",
    "churn_data['PhoneService']= churn_data['PhoneService'].map({'Yes':1,'No':0})\n",
    "churn_data['PaperlessBilling']= churn_data['PaperlessBilling'].map({'Yes':1,'No':0})"
   ]
  },
  {
   "cell_type": "code",
   "execution_count": 12,
   "id": "b915d058",
   "metadata": {},
   "outputs": [],
   "source": [
    "churn_data['Churn']=churn_data['Churn'].map({'Yes':1,'No':0})"
   ]
  },
  {
   "cell_type": "code",
   "execution_count": 13,
   "id": "0ccf3779",
   "metadata": {},
   "outputs": [],
   "source": [
    "churn_data= churn_data.replace(to_replace='No phone service', value='No')\n",
    "churn_data= churn_data.replace(to_replace='No internet service',value='No')"
   ]
  },
  {
   "cell_type": "code",
   "execution_count": 14,
   "id": "e14b5a0c",
   "metadata": {},
   "outputs": [],
   "source": [
    "churn_data['MultipleLines']= churn_data['MultipleLines'].map({'Yes':1,'No':0})\n",
    "churn_data['OnlineSecurity']= churn_data['OnlineSecurity'].map({'Yes':1,'No':0})\n",
    "churn_data['OnlineBackup']= churn_data['OnlineBackup'].map({'Yes':1,'No':0})\n",
    "churn_data['DeviceProtection']= churn_data['DeviceProtection'].map({'Yes':1,'No':0})\n",
    "churn_data['TechSupport']= churn_data['TechSupport'].map({'Yes':1,'No':0})\n",
    "churn_data['StreamingTV']= churn_data['StreamingTV'].map({'Yes':1,'No':0})\n",
    "churn_data['StreamingMovies']= churn_data['StreamingMovies'].map({'Yes':1,'No':0})"
   ]
  },
  {
   "cell_type": "code",
   "execution_count": 15,
   "id": "8b9fcbcb",
   "metadata": {},
   "outputs": [
    {
     "data": {
      "text/html": [
       "<div>\n",
       "<style scoped>\n",
       "    .dataframe tbody tr th:only-of-type {\n",
       "        vertical-align: middle;\n",
       "    }\n",
       "\n",
       "    .dataframe tbody tr th {\n",
       "        vertical-align: top;\n",
       "    }\n",
       "\n",
       "    .dataframe thead th {\n",
       "        text-align: right;\n",
       "    }\n",
       "</style>\n",
       "<table border=\"1\" class=\"dataframe\">\n",
       "  <thead>\n",
       "    <tr style=\"text-align: right;\">\n",
       "      <th></th>\n",
       "      <th>gender</th>\n",
       "      <th>SeniorCitizen</th>\n",
       "      <th>Partner</th>\n",
       "      <th>Dependents</th>\n",
       "      <th>tenure</th>\n",
       "      <th>PhoneService</th>\n",
       "      <th>MultipleLines</th>\n",
       "      <th>InternetService</th>\n",
       "      <th>OnlineSecurity</th>\n",
       "      <th>OnlineBackup</th>\n",
       "      <th>DeviceProtection</th>\n",
       "      <th>TechSupport</th>\n",
       "      <th>StreamingTV</th>\n",
       "      <th>StreamingMovies</th>\n",
       "      <th>Contract</th>\n",
       "      <th>PaperlessBilling</th>\n",
       "      <th>PaymentMethod</th>\n",
       "      <th>MonthlyCharges</th>\n",
       "      <th>TotalCharges</th>\n",
       "      <th>Churn</th>\n",
       "    </tr>\n",
       "  </thead>\n",
       "  <tbody>\n",
       "    <tr>\n",
       "      <th>0</th>\n",
       "      <td>1</td>\n",
       "      <td>0</td>\n",
       "      <td>1</td>\n",
       "      <td>0</td>\n",
       "      <td>1</td>\n",
       "      <td>0</td>\n",
       "      <td>0</td>\n",
       "      <td>DSL</td>\n",
       "      <td>0</td>\n",
       "      <td>1</td>\n",
       "      <td>0</td>\n",
       "      <td>0</td>\n",
       "      <td>0</td>\n",
       "      <td>0</td>\n",
       "      <td>Month-to-month</td>\n",
       "      <td>1</td>\n",
       "      <td>Electronic check</td>\n",
       "      <td>29.85</td>\n",
       "      <td>29.85</td>\n",
       "      <td>0</td>\n",
       "    </tr>\n",
       "    <tr>\n",
       "      <th>1</th>\n",
       "      <td>0</td>\n",
       "      <td>0</td>\n",
       "      <td>0</td>\n",
       "      <td>0</td>\n",
       "      <td>34</td>\n",
       "      <td>1</td>\n",
       "      <td>0</td>\n",
       "      <td>DSL</td>\n",
       "      <td>1</td>\n",
       "      <td>0</td>\n",
       "      <td>1</td>\n",
       "      <td>0</td>\n",
       "      <td>0</td>\n",
       "      <td>0</td>\n",
       "      <td>One year</td>\n",
       "      <td>0</td>\n",
       "      <td>Mailed check</td>\n",
       "      <td>56.95</td>\n",
       "      <td>1889.5</td>\n",
       "      <td>0</td>\n",
       "    </tr>\n",
       "    <tr>\n",
       "      <th>2</th>\n",
       "      <td>0</td>\n",
       "      <td>0</td>\n",
       "      <td>0</td>\n",
       "      <td>0</td>\n",
       "      <td>2</td>\n",
       "      <td>1</td>\n",
       "      <td>0</td>\n",
       "      <td>DSL</td>\n",
       "      <td>1</td>\n",
       "      <td>1</td>\n",
       "      <td>0</td>\n",
       "      <td>0</td>\n",
       "      <td>0</td>\n",
       "      <td>0</td>\n",
       "      <td>Month-to-month</td>\n",
       "      <td>1</td>\n",
       "      <td>Mailed check</td>\n",
       "      <td>53.85</td>\n",
       "      <td>108.15</td>\n",
       "      <td>1</td>\n",
       "    </tr>\n",
       "    <tr>\n",
       "      <th>3</th>\n",
       "      <td>0</td>\n",
       "      <td>0</td>\n",
       "      <td>0</td>\n",
       "      <td>0</td>\n",
       "      <td>45</td>\n",
       "      <td>0</td>\n",
       "      <td>0</td>\n",
       "      <td>DSL</td>\n",
       "      <td>1</td>\n",
       "      <td>0</td>\n",
       "      <td>1</td>\n",
       "      <td>1</td>\n",
       "      <td>0</td>\n",
       "      <td>0</td>\n",
       "      <td>One year</td>\n",
       "      <td>0</td>\n",
       "      <td>Bank transfer (automatic)</td>\n",
       "      <td>42.30</td>\n",
       "      <td>1840.75</td>\n",
       "      <td>0</td>\n",
       "    </tr>\n",
       "    <tr>\n",
       "      <th>4</th>\n",
       "      <td>1</td>\n",
       "      <td>0</td>\n",
       "      <td>0</td>\n",
       "      <td>0</td>\n",
       "      <td>2</td>\n",
       "      <td>1</td>\n",
       "      <td>0</td>\n",
       "      <td>Fiber optic</td>\n",
       "      <td>0</td>\n",
       "      <td>0</td>\n",
       "      <td>0</td>\n",
       "      <td>0</td>\n",
       "      <td>0</td>\n",
       "      <td>0</td>\n",
       "      <td>Month-to-month</td>\n",
       "      <td>1</td>\n",
       "      <td>Electronic check</td>\n",
       "      <td>70.70</td>\n",
       "      <td>151.65</td>\n",
       "      <td>1</td>\n",
       "    </tr>\n",
       "    <tr>\n",
       "      <th>5</th>\n",
       "      <td>1</td>\n",
       "      <td>0</td>\n",
       "      <td>0</td>\n",
       "      <td>0</td>\n",
       "      <td>8</td>\n",
       "      <td>1</td>\n",
       "      <td>1</td>\n",
       "      <td>Fiber optic</td>\n",
       "      <td>0</td>\n",
       "      <td>0</td>\n",
       "      <td>1</td>\n",
       "      <td>0</td>\n",
       "      <td>1</td>\n",
       "      <td>1</td>\n",
       "      <td>Month-to-month</td>\n",
       "      <td>1</td>\n",
       "      <td>Electronic check</td>\n",
       "      <td>99.65</td>\n",
       "      <td>820.5</td>\n",
       "      <td>1</td>\n",
       "    </tr>\n",
       "    <tr>\n",
       "      <th>6</th>\n",
       "      <td>0</td>\n",
       "      <td>0</td>\n",
       "      <td>0</td>\n",
       "      <td>1</td>\n",
       "      <td>22</td>\n",
       "      <td>1</td>\n",
       "      <td>1</td>\n",
       "      <td>Fiber optic</td>\n",
       "      <td>0</td>\n",
       "      <td>1</td>\n",
       "      <td>0</td>\n",
       "      <td>0</td>\n",
       "      <td>1</td>\n",
       "      <td>0</td>\n",
       "      <td>Month-to-month</td>\n",
       "      <td>1</td>\n",
       "      <td>Credit card (automatic)</td>\n",
       "      <td>89.10</td>\n",
       "      <td>1949.4</td>\n",
       "      <td>0</td>\n",
       "    </tr>\n",
       "    <tr>\n",
       "      <th>7</th>\n",
       "      <td>1</td>\n",
       "      <td>0</td>\n",
       "      <td>0</td>\n",
       "      <td>0</td>\n",
       "      <td>10</td>\n",
       "      <td>0</td>\n",
       "      <td>0</td>\n",
       "      <td>DSL</td>\n",
       "      <td>1</td>\n",
       "      <td>0</td>\n",
       "      <td>0</td>\n",
       "      <td>0</td>\n",
       "      <td>0</td>\n",
       "      <td>0</td>\n",
       "      <td>Month-to-month</td>\n",
       "      <td>0</td>\n",
       "      <td>Mailed check</td>\n",
       "      <td>29.75</td>\n",
       "      <td>301.9</td>\n",
       "      <td>0</td>\n",
       "    </tr>\n",
       "    <tr>\n",
       "      <th>8</th>\n",
       "      <td>1</td>\n",
       "      <td>0</td>\n",
       "      <td>1</td>\n",
       "      <td>0</td>\n",
       "      <td>28</td>\n",
       "      <td>1</td>\n",
       "      <td>1</td>\n",
       "      <td>Fiber optic</td>\n",
       "      <td>0</td>\n",
       "      <td>0</td>\n",
       "      <td>1</td>\n",
       "      <td>1</td>\n",
       "      <td>1</td>\n",
       "      <td>1</td>\n",
       "      <td>Month-to-month</td>\n",
       "      <td>1</td>\n",
       "      <td>Electronic check</td>\n",
       "      <td>104.80</td>\n",
       "      <td>3046.05</td>\n",
       "      <td>1</td>\n",
       "    </tr>\n",
       "    <tr>\n",
       "      <th>9</th>\n",
       "      <td>0</td>\n",
       "      <td>0</td>\n",
       "      <td>0</td>\n",
       "      <td>1</td>\n",
       "      <td>62</td>\n",
       "      <td>1</td>\n",
       "      <td>0</td>\n",
       "      <td>DSL</td>\n",
       "      <td>1</td>\n",
       "      <td>1</td>\n",
       "      <td>0</td>\n",
       "      <td>0</td>\n",
       "      <td>0</td>\n",
       "      <td>0</td>\n",
       "      <td>One year</td>\n",
       "      <td>0</td>\n",
       "      <td>Bank transfer (automatic)</td>\n",
       "      <td>56.15</td>\n",
       "      <td>3487.95</td>\n",
       "      <td>0</td>\n",
       "    </tr>\n",
       "  </tbody>\n",
       "</table>\n",
       "</div>"
      ],
      "text/plain": [
       "   gender  SeniorCitizen  Partner  Dependents  tenure  PhoneService  \\\n",
       "0       1              0        1           0       1             0   \n",
       "1       0              0        0           0      34             1   \n",
       "2       0              0        0           0       2             1   \n",
       "3       0              0        0           0      45             0   \n",
       "4       1              0        0           0       2             1   \n",
       "5       1              0        0           0       8             1   \n",
       "6       0              0        0           1      22             1   \n",
       "7       1              0        0           0      10             0   \n",
       "8       1              0        1           0      28             1   \n",
       "9       0              0        0           1      62             1   \n",
       "\n",
       "   MultipleLines InternetService  OnlineSecurity  OnlineBackup  \\\n",
       "0              0             DSL               0             1   \n",
       "1              0             DSL               1             0   \n",
       "2              0             DSL               1             1   \n",
       "3              0             DSL               1             0   \n",
       "4              0     Fiber optic               0             0   \n",
       "5              1     Fiber optic               0             0   \n",
       "6              1     Fiber optic               0             1   \n",
       "7              0             DSL               1             0   \n",
       "8              1     Fiber optic               0             0   \n",
       "9              0             DSL               1             1   \n",
       "\n",
       "   DeviceProtection  TechSupport  StreamingTV  StreamingMovies  \\\n",
       "0                 0            0            0                0   \n",
       "1                 1            0            0                0   \n",
       "2                 0            0            0                0   \n",
       "3                 1            1            0                0   \n",
       "4                 0            0            0                0   \n",
       "5                 1            0            1                1   \n",
       "6                 0            0            1                0   \n",
       "7                 0            0            0                0   \n",
       "8                 1            1            1                1   \n",
       "9                 0            0            0                0   \n",
       "\n",
       "         Contract  PaperlessBilling              PaymentMethod  \\\n",
       "0  Month-to-month                 1           Electronic check   \n",
       "1        One year                 0               Mailed check   \n",
       "2  Month-to-month                 1               Mailed check   \n",
       "3        One year                 0  Bank transfer (automatic)   \n",
       "4  Month-to-month                 1           Electronic check   \n",
       "5  Month-to-month                 1           Electronic check   \n",
       "6  Month-to-month                 1    Credit card (automatic)   \n",
       "7  Month-to-month                 0               Mailed check   \n",
       "8  Month-to-month                 1           Electronic check   \n",
       "9        One year                 0  Bank transfer (automatic)   \n",
       "\n",
       "   MonthlyCharges TotalCharges  Churn  \n",
       "0           29.85        29.85      0  \n",
       "1           56.95       1889.5      0  \n",
       "2           53.85       108.15      1  \n",
       "3           42.30      1840.75      0  \n",
       "4           70.70       151.65      1  \n",
       "5           99.65        820.5      1  \n",
       "6           89.10       1949.4      0  \n",
       "7           29.75        301.9      0  \n",
       "8          104.80      3046.05      1  \n",
       "9           56.15      3487.95      0  "
      ]
     },
     "execution_count": 15,
     "metadata": {},
     "output_type": "execute_result"
    }
   ],
   "source": [
    "churn_data.head(10)"
   ]
  },
  {
   "cell_type": "markdown",
   "id": "0ce98666",
   "metadata": {},
   "source": [
    "# Converting type of Total Charges string to float"
   ]
  },
  {
   "cell_type": "code",
   "execution_count": 16,
   "id": "253c07b9",
   "metadata": {},
   "outputs": [
    {
     "name": "stdout",
     "output_type": "stream",
     "text": [
      "Index Positions with empty spaces :  488 753 936 1082 1340 3331 3826 4380 5218 6670 6754\n"
     ]
    }
   ],
   "source": [
    "# Converting DataFrame column elements from string to float using the following code line :\n",
    "\n",
    "\n",
    "l1 = [len(i.split()) for i in churn_data['TotalCharges']]\n",
    "l2 = [i for i in range(len(l1)) if l1[i] != 1]\n",
    "print('Index Positions with empty spaces : ',*l2)\n",
    "\n",
    "for i in l2:\n",
    "    churn_data.loc[i,'TotalCharges'] = churn_data.loc[(i-1),'TotalCharges']\n",
    "    \n",
    "churn_data['TotalCharges'] = churn_data['TotalCharges'].astype(float)"
   ]
  },
  {
   "cell_type": "markdown",
   "id": "658b271b",
   "metadata": {},
   "source": [
    "# Checking outliers"
   ]
  },
  {
   "cell_type": "code",
   "execution_count": 17,
   "id": "1927fc37",
   "metadata": {
    "scrolled": false
   },
   "outputs": [
    {
     "data": {
      "text/plain": [
       "<AxesSubplot:>"
      ]
     },
     "execution_count": 17,
     "metadata": {},
     "output_type": "execute_result"
    },
    {
     "data": {
      "image/png": "[encoded data removed]",
      "text/plain": [
       "<Figure size 640x480 with 1 Axes>"
      ]
     },
     "metadata": {},
     "output_type": "display_data"
    }
   ],
   "source": [
    "churn_data.boxplot(['TotalCharges'])"
   ]
  },
  {
   "cell_type": "code",
   "execution_count": 18,
   "id": "150cd27c",
   "metadata": {
    "scrolled": true
   },
   "outputs": [
    {
     "data": {
      "text/plain": [
       "<AxesSubplot:>"
      ]
     },
     "execution_count": 18,
     "metadata": {},
     "output_type": "execute_result"
    },
    {
     "data": {
      "image/png": "[encoded data removed]",
      "text/plain": [
       "<Figure size 640x480 with 1 Axes>"
      ]
     },
     "metadata": {},
     "output_type": "display_data"
    }
   ],
   "source": [
    "churn_data.boxplot(['tenure'])"
   ]
  },
  {
   "cell_type": "code",
   "execution_count": 19,
   "id": "c1e9de87",
   "metadata": {},
   "outputs": [
    {
     "data": {
      "text/plain": [
       "<AxesSubplot:>"
      ]
     },
     "execution_count": 19,
     "metadata": {},
     "output_type": "execute_result"
    },
    {
     "data": {
      "image/png": "[encoded data removed]",
      "text/plain": [
       "<Figure size 640x480 with 1 Axes>"
      ]
     },
     "metadata": {},
     "output_type": "display_data"
    }
   ],
   "source": [
    "churn_data.boxplot(['MonthlyCharges'])"
   ]
  },
  {
   "cell_type": "markdown",
   "id": "78e21d46",
   "metadata": {},
   "source": [
    "# onehotencode variable of IVs i.e. (Internet Service, Contract and Payment Method)"
   ]
  },
  {
   "cell_type": "code",
   "execution_count": 20,
   "id": "8219c7fa",
   "metadata": {
    "scrolled": true
   },
   "outputs": [
    {
     "name": "stdout",
     "output_type": "stream",
     "text": [
      "['gender' 'SeniorCitizen' 'Partner' 'Dependents' 'tenure' 'PhoneService'\n",
      " 'MultipleLines' 'OnlineSecurity' 'OnlineBackup' 'DeviceProtection'\n",
      " 'TechSupport' 'StreamingTV' 'StreamingMovies' 'PaperlessBilling'\n",
      " 'MonthlyCharges' 'TotalCharges' 'Churn' 'InternetService_DSL'\n",
      " 'InternetService_Fiber optic' 'InternetService_No'\n",
      " 'Contract_Month-to-month' 'Contract_One year' 'Contract_Two year'\n",
      " 'PaymentMethod_Bank transfer (automatic)'\n",
      " 'PaymentMethod_Credit card (automatic)' 'PaymentMethod_Electronic check'\n",
      " 'PaymentMethod_Mailed check']\n"
     ]
    },
    {
     "data": {
      "text/html": [
       "<div>\n",
       "<style scoped>\n",
       "    .dataframe tbody tr th:only-of-type {\n",
       "        vertical-align: middle;\n",
       "    }\n",
       "\n",
       "    .dataframe tbody tr th {\n",
       "        vertical-align: top;\n",
       "    }\n",
       "\n",
       "    .dataframe thead th {\n",
       "        text-align: right;\n",
       "    }\n",
       "</style>\n",
       "<table border=\"1\" class=\"dataframe\">\n",
       "  <thead>\n",
       "    <tr style=\"text-align: right;\">\n",
       "      <th></th>\n",
       "      <th>gender</th>\n",
       "      <th>SeniorCitizen</th>\n",
       "      <th>Partner</th>\n",
       "      <th>Dependents</th>\n",
       "      <th>tenure</th>\n",
       "      <th>PhoneService</th>\n",
       "      <th>MultipleLines</th>\n",
       "      <th>OnlineSecurity</th>\n",
       "      <th>OnlineBackup</th>\n",
       "      <th>DeviceProtection</th>\n",
       "      <th>...</th>\n",
       "      <th>InternetService_DSL</th>\n",
       "      <th>InternetService_Fiber optic</th>\n",
       "      <th>InternetService_No</th>\n",
       "      <th>Contract_Month-to-month</th>\n",
       "      <th>Contract_One year</th>\n",
       "      <th>Contract_Two year</th>\n",
       "      <th>PaymentMethod_Bank transfer (automatic)</th>\n",
       "      <th>PaymentMethod_Credit card (automatic)</th>\n",
       "      <th>PaymentMethod_Electronic check</th>\n",
       "      <th>PaymentMethod_Mailed check</th>\n",
       "    </tr>\n",
       "  </thead>\n",
       "  <tbody>\n",
       "    <tr>\n",
       "      <th>0</th>\n",
       "      <td>1</td>\n",
       "      <td>0</td>\n",
       "      <td>1</td>\n",
       "      <td>0</td>\n",
       "      <td>1</td>\n",
       "      <td>0</td>\n",
       "      <td>0</td>\n",
       "      <td>0</td>\n",
       "      <td>1</td>\n",
       "      <td>0</td>\n",
       "      <td>...</td>\n",
       "      <td>1</td>\n",
       "      <td>0</td>\n",
       "      <td>0</td>\n",
       "      <td>1</td>\n",
       "      <td>0</td>\n",
       "      <td>0</td>\n",
       "      <td>0</td>\n",
       "      <td>0</td>\n",
       "      <td>1</td>\n",
       "      <td>0</td>\n",
       "    </tr>\n",
       "    <tr>\n",
       "      <th>1</th>\n",
       "      <td>0</td>\n",
       "      <td>0</td>\n",
       "      <td>0</td>\n",
       "      <td>0</td>\n",
       "      <td>34</td>\n",
       "      <td>1</td>\n",
       "      <td>0</td>\n",
       "      <td>1</td>\n",
       "      <td>0</td>\n",
       "      <td>1</td>\n",
       "      <td>...</td>\n",
       "      <td>1</td>\n",
       "      <td>0</td>\n",
       "      <td>0</td>\n",
       "      <td>0</td>\n",
       "      <td>1</td>\n",
       "      <td>0</td>\n",
       "      <td>0</td>\n",
       "      <td>0</td>\n",
       "      <td>0</td>\n",
       "      <td>1</td>\n",
       "    </tr>\n",
       "    <tr>\n",
       "      <th>2</th>\n",
       "      <td>0</td>\n",
       "      <td>0</td>\n",
       "      <td>0</td>\n",
       "      <td>0</td>\n",
       "      <td>2</td>\n",
       "      <td>1</td>\n",
       "      <td>0</td>\n",
       "      <td>1</td>\n",
       "      <td>1</td>\n",
       "      <td>0</td>\n",
       "      <td>...</td>\n",
       "      <td>1</td>\n",
       "      <td>0</td>\n",
       "      <td>0</td>\n",
       "      <td>1</td>\n",
       "      <td>0</td>\n",
       "      <td>0</td>\n",
       "      <td>0</td>\n",
       "      <td>0</td>\n",
       "      <td>0</td>\n",
       "      <td>1</td>\n",
       "    </tr>\n",
       "    <tr>\n",
       "      <th>3</th>\n",
       "      <td>0</td>\n",
       "      <td>0</td>\n",
       "      <td>0</td>\n",
       "      <td>0</td>\n",
       "      <td>45</td>\n",
       "      <td>0</td>\n",
       "      <td>0</td>\n",
       "      <td>1</td>\n",
       "      <td>0</td>\n",
       "      <td>1</td>\n",
       "      <td>...</td>\n",
       "      <td>1</td>\n",
       "      <td>0</td>\n",
       "      <td>0</td>\n",
       "      <td>0</td>\n",
       "      <td>1</td>\n",
       "      <td>0</td>\n",
       "      <td>1</td>\n",
       "      <td>0</td>\n",
       "      <td>0</td>\n",
       "      <td>0</td>\n",
       "    </tr>\n",
       "    <tr>\n",
       "      <th>4</th>\n",
       "      <td>1</td>\n",
       "      <td>0</td>\n",
       "      <td>0</td>\n",
       "      <td>0</td>\n",
       "      <td>2</td>\n",
       "      <td>1</td>\n",
       "      <td>0</td>\n",
       "      <td>0</td>\n",
       "      <td>0</td>\n",
       "      <td>0</td>\n",
       "      <td>...</td>\n",
       "      <td>0</td>\n",
       "      <td>1</td>\n",
       "      <td>0</td>\n",
       "      <td>1</td>\n",
       "      <td>0</td>\n",
       "      <td>0</td>\n",
       "      <td>0</td>\n",
       "      <td>0</td>\n",
       "      <td>1</td>\n",
       "      <td>0</td>\n",
       "    </tr>\n",
       "  </tbody>\n",
       "</table>\n",
       "<p>5 rows × 27 columns</p>\n",
       "</div>"
      ],
      "text/plain": [
       "   gender  SeniorCitizen  Partner  Dependents  tenure  PhoneService  \\\n",
       "0       1              0        1           0       1             0   \n",
       "1       0              0        0           0      34             1   \n",
       "2       0              0        0           0       2             1   \n",
       "3       0              0        0           0      45             0   \n",
       "4       1              0        0           0       2             1   \n",
       "\n",
       "   MultipleLines  OnlineSecurity  OnlineBackup  DeviceProtection  ...  \\\n",
       "0              0               0             1                 0  ...   \n",
       "1              0               1             0                 1  ...   \n",
       "2              0               1             1                 0  ...   \n",
       "3              0               1             0                 1  ...   \n",
       "4              0               0             0                 0  ...   \n",
       "\n",
       "   InternetService_DSL  InternetService_Fiber optic  InternetService_No  \\\n",
       "0                    1                            0                   0   \n",
       "1                    1                            0                   0   \n",
       "2                    1                            0                   0   \n",
       "3                    1                            0                   0   \n",
       "4                    0                            1                   0   \n",
       "\n",
       "   Contract_Month-to-month  Contract_One year  Contract_Two year  \\\n",
       "0                        1                  0                  0   \n",
       "1                        0                  1                  0   \n",
       "2                        1                  0                  0   \n",
       "3                        0                  1                  0   \n",
       "4                        1                  0                  0   \n",
       "\n",
       "   PaymentMethod_Bank transfer (automatic)  \\\n",
       "0                                        0   \n",
       "1                                        0   \n",
       "2                                        0   \n",
       "3                                        1   \n",
       "4                                        0   \n",
       "\n",
       "   PaymentMethod_Credit card (automatic)  PaymentMethod_Electronic check  \\\n",
       "0                                      0                               1   \n",
       "1                                      0                               0   \n",
       "2                                      0                               0   \n",
       "3                                      0                               0   \n",
       "4                                      0                               1   \n",
       "\n",
       "   PaymentMethod_Mailed check  \n",
       "0                           0  \n",
       "1                           1  \n",
       "2                           1  \n",
       "3                           0  \n",
       "4                           0  \n",
       "\n",
       "[5 rows x 27 columns]"
      ]
     },
     "execution_count": 20,
     "metadata": {},
     "output_type": "execute_result"
    }
   ],
   "source": [
    "# onehotencode variable of nationality\n",
    "churn_data_encoded = pd.get_dummies(churn_data, columns=['InternetService','Contract','PaymentMethod'])\n",
    "print(churn_data_encoded.columns.values)\n",
    "churn_data_encoded.head()"
   ]
  },
  {
   "cell_type": "markdown",
   "id": "50598d9a",
   "metadata": {},
   "source": [
    "# Standardization/ Normaalization of variables"
   ]
  },
  {
   "cell_type": "code",
   "execution_count": 21,
   "id": "3d661062",
   "metadata": {},
   "outputs": [],
   "source": [
    "#standardize the variables\n",
    "\n",
    "scaler = StandardScaler()\n",
    "scaler.fit(churn_data_encoded)\n",
    "churn_data_encoded = scaler.transform(churn_data_encoded)\n",
    "churn_data_encoded = pd.DataFrame(churn_data_encoded, columns = ['gender', 'SeniorCitizen' ,'Partner', 'Dependents', 'tenure', 'PhoneService',\n",
    " 'MultipleLines' ,'OnlineSecurity' ,'OnlineBackup' ,'DeviceProtection',\n",
    " 'TechSupport' ,'StreamingTV' ,'StreamingMovies' ,'PaperlessBilling',\n",
    " 'MonthlyCharges' ,'TotalCharges' ,'Churn' ,'InternetService_DSL',\n",
    " 'InternetService_Fiber optic' ,'InternetService_No',\n",
    " 'Contract_Month-to-month', 'Contract_One year', 'Contract_Two year',\n",
    " 'PaymentMethod_Bank transfer (automatic)',\n",
    " 'PaymentMethod_Credit card (automatic)' ,'PaymentMethod_Electronic check',\n",
    " 'PaymentMethod_Mailed check'])"
   ]
  },
  {
   "cell_type": "markdown",
   "id": "f0501671",
   "metadata": {},
   "source": [
    "# declaring IVs and DV"
   ]
  },
  {
   "cell_type": "code",
   "execution_count": 22,
   "id": "d4175a42",
   "metadata": {},
   "outputs": [],
   "source": [
    "ivs = churn_data_encoded[['gender', 'SeniorCitizen' ,'Partner', 'Dependents', 'tenure', 'PhoneService',\n",
    " 'MultipleLines' ,'OnlineSecurity' ,'OnlineBackup' ,'DeviceProtection',\n",
    " 'TechSupport' ,'StreamingTV' ,'StreamingMovies' ,'PaperlessBilling',\n",
    " 'MonthlyCharges' ,'TotalCharges' ,'InternetService_DSL',\n",
    " 'InternetService_Fiber optic' ,'InternetService_No',\n",
    " 'Contract_Month-to-month', 'Contract_One year', 'Contract_Two year',\n",
    " 'PaymentMethod_Bank transfer (automatic)',\n",
    " 'PaymentMethod_Credit card (automatic)' ,'PaymentMethod_Electronic check',\n",
    " 'PaymentMethod_Mailed check']]\n",
    "dv = churn_data_encoded['Churn']"
   ]
  },
  {
   "cell_type": "code",
   "execution_count": 23,
   "id": "f5f59695",
   "metadata": {},
   "outputs": [
    {
     "data": {
      "text/html": [
       "<div>\n",
       "<style scoped>\n",
       "    .dataframe tbody tr th:only-of-type {\n",
       "        vertical-align: middle;\n",
       "    }\n",
       "\n",
       "    .dataframe tbody tr th {\n",
       "        vertical-align: top;\n",
       "    }\n",
       "\n",
       "    .dataframe thead th {\n",
       "        text-align: right;\n",
       "    }\n",
       "</style>\n",
       "<table border=\"1\" class=\"dataframe\">\n",
       "  <thead>\n",
       "    <tr style=\"text-align: right;\">\n",
       "      <th></th>\n",
       "      <th>gender</th>\n",
       "      <th>SeniorCitizen</th>\n",
       "      <th>Partner</th>\n",
       "      <th>Dependents</th>\n",
       "      <th>tenure</th>\n",
       "      <th>PhoneService</th>\n",
       "      <th>MultipleLines</th>\n",
       "      <th>OnlineSecurity</th>\n",
       "      <th>OnlineBackup</th>\n",
       "      <th>DeviceProtection</th>\n",
       "      <th>...</th>\n",
       "      <th>InternetService_DSL</th>\n",
       "      <th>InternetService_Fiber optic</th>\n",
       "      <th>InternetService_No</th>\n",
       "      <th>Contract_Month-to-month</th>\n",
       "      <th>Contract_One year</th>\n",
       "      <th>Contract_Two year</th>\n",
       "      <th>PaymentMethod_Bank transfer (automatic)</th>\n",
       "      <th>PaymentMethod_Credit card (automatic)</th>\n",
       "      <th>PaymentMethod_Electronic check</th>\n",
       "      <th>PaymentMethod_Mailed check</th>\n",
       "    </tr>\n",
       "  </thead>\n",
       "  <tbody>\n",
       "    <tr>\n",
       "      <th>0</th>\n",
       "      <td>1.009559</td>\n",
       "      <td>-0.439916</td>\n",
       "      <td>1.034530</td>\n",
       "      <td>-0.654012</td>\n",
       "      <td>-1.277445</td>\n",
       "      <td>-3.054010</td>\n",
       "      <td>-0.854176</td>\n",
       "      <td>-0.633933</td>\n",
       "      <td>1.378241</td>\n",
       "      <td>-0.723968</td>\n",
       "      <td>...</td>\n",
       "      <td>1.381712</td>\n",
       "      <td>-0.885660</td>\n",
       "      <td>-0.525927</td>\n",
       "      <td>0.904184</td>\n",
       "      <td>-0.514249</td>\n",
       "      <td>-0.562975</td>\n",
       "      <td>-0.529885</td>\n",
       "      <td>-0.525047</td>\n",
       "      <td>1.406418</td>\n",
       "      <td>-0.544807</td>\n",
       "    </tr>\n",
       "    <tr>\n",
       "      <th>1</th>\n",
       "      <td>-0.990532</td>\n",
       "      <td>-0.439916</td>\n",
       "      <td>-0.966622</td>\n",
       "      <td>-0.654012</td>\n",
       "      <td>0.066327</td>\n",
       "      <td>0.327438</td>\n",
       "      <td>-0.854176</td>\n",
       "      <td>1.577454</td>\n",
       "      <td>-0.725563</td>\n",
       "      <td>1.381277</td>\n",
       "      <td>...</td>\n",
       "      <td>1.381712</td>\n",
       "      <td>-0.885660</td>\n",
       "      <td>-0.525927</td>\n",
       "      <td>-1.105970</td>\n",
       "      <td>1.944582</td>\n",
       "      <td>-0.562975</td>\n",
       "      <td>-0.529885</td>\n",
       "      <td>-0.525047</td>\n",
       "      <td>-0.711026</td>\n",
       "      <td>1.835513</td>\n",
       "    </tr>\n",
       "    <tr>\n",
       "      <th>2</th>\n",
       "      <td>-0.990532</td>\n",
       "      <td>-0.439916</td>\n",
       "      <td>-0.966622</td>\n",
       "      <td>-0.654012</td>\n",
       "      <td>-1.236724</td>\n",
       "      <td>0.327438</td>\n",
       "      <td>-0.854176</td>\n",
       "      <td>1.577454</td>\n",
       "      <td>1.378241</td>\n",
       "      <td>-0.723968</td>\n",
       "      <td>...</td>\n",
       "      <td>1.381712</td>\n",
       "      <td>-0.885660</td>\n",
       "      <td>-0.525927</td>\n",
       "      <td>0.904184</td>\n",
       "      <td>-0.514249</td>\n",
       "      <td>-0.562975</td>\n",
       "      <td>-0.529885</td>\n",
       "      <td>-0.525047</td>\n",
       "      <td>-0.711026</td>\n",
       "      <td>1.835513</td>\n",
       "    </tr>\n",
       "    <tr>\n",
       "      <th>3</th>\n",
       "      <td>-0.990532</td>\n",
       "      <td>-0.439916</td>\n",
       "      <td>-0.966622</td>\n",
       "      <td>-0.654012</td>\n",
       "      <td>0.514251</td>\n",
       "      <td>-3.054010</td>\n",
       "      <td>-0.854176</td>\n",
       "      <td>1.577454</td>\n",
       "      <td>-0.725563</td>\n",
       "      <td>1.381277</td>\n",
       "      <td>...</td>\n",
       "      <td>1.381712</td>\n",
       "      <td>-0.885660</td>\n",
       "      <td>-0.525927</td>\n",
       "      <td>-1.105970</td>\n",
       "      <td>1.944582</td>\n",
       "      <td>-0.562975</td>\n",
       "      <td>1.887201</td>\n",
       "      <td>-0.525047</td>\n",
       "      <td>-0.711026</td>\n",
       "      <td>-0.544807</td>\n",
       "    </tr>\n",
       "    <tr>\n",
       "      <th>4</th>\n",
       "      <td>1.009559</td>\n",
       "      <td>-0.439916</td>\n",
       "      <td>-0.966622</td>\n",
       "      <td>-0.654012</td>\n",
       "      <td>-1.236724</td>\n",
       "      <td>0.327438</td>\n",
       "      <td>-0.854176</td>\n",
       "      <td>-0.633933</td>\n",
       "      <td>-0.725563</td>\n",
       "      <td>-0.723968</td>\n",
       "      <td>...</td>\n",
       "      <td>-0.723740</td>\n",
       "      <td>1.129102</td>\n",
       "      <td>-0.525927</td>\n",
       "      <td>0.904184</td>\n",
       "      <td>-0.514249</td>\n",
       "      <td>-0.562975</td>\n",
       "      <td>-0.529885</td>\n",
       "      <td>-0.525047</td>\n",
       "      <td>1.406418</td>\n",
       "      <td>-0.544807</td>\n",
       "    </tr>\n",
       "    <tr>\n",
       "      <th>...</th>\n",
       "      <td>...</td>\n",
       "      <td>...</td>\n",
       "      <td>...</td>\n",
       "      <td>...</td>\n",
       "      <td>...</td>\n",
       "      <td>...</td>\n",
       "      <td>...</td>\n",
       "      <td>...</td>\n",
       "      <td>...</td>\n",
       "      <td>...</td>\n",
       "      <td>...</td>\n",
       "      <td>...</td>\n",
       "      <td>...</td>\n",
       "      <td>...</td>\n",
       "      <td>...</td>\n",
       "      <td>...</td>\n",
       "      <td>...</td>\n",
       "      <td>...</td>\n",
       "      <td>...</td>\n",
       "      <td>...</td>\n",
       "      <td>...</td>\n",
       "    </tr>\n",
       "    <tr>\n",
       "      <th>7038</th>\n",
       "      <td>-0.990532</td>\n",
       "      <td>-0.439916</td>\n",
       "      <td>1.034530</td>\n",
       "      <td>1.529024</td>\n",
       "      <td>-0.340876</td>\n",
       "      <td>0.327438</td>\n",
       "      <td>1.170719</td>\n",
       "      <td>1.577454</td>\n",
       "      <td>-0.725563</td>\n",
       "      <td>1.381277</td>\n",
       "      <td>...</td>\n",
       "      <td>1.381712</td>\n",
       "      <td>-0.885660</td>\n",
       "      <td>-0.525927</td>\n",
       "      <td>-1.105970</td>\n",
       "      <td>1.944582</td>\n",
       "      <td>-0.562975</td>\n",
       "      <td>-0.529885</td>\n",
       "      <td>-0.525047</td>\n",
       "      <td>-0.711026</td>\n",
       "      <td>1.835513</td>\n",
       "    </tr>\n",
       "    <tr>\n",
       "      <th>7039</th>\n",
       "      <td>1.009559</td>\n",
       "      <td>-0.439916</td>\n",
       "      <td>1.034530</td>\n",
       "      <td>1.529024</td>\n",
       "      <td>1.613701</td>\n",
       "      <td>0.327438</td>\n",
       "      <td>1.170719</td>\n",
       "      <td>-0.633933</td>\n",
       "      <td>1.378241</td>\n",
       "      <td>1.381277</td>\n",
       "      <td>...</td>\n",
       "      <td>-0.723740</td>\n",
       "      <td>1.129102</td>\n",
       "      <td>-0.525927</td>\n",
       "      <td>-1.105970</td>\n",
       "      <td>1.944582</td>\n",
       "      <td>-0.562975</td>\n",
       "      <td>-0.529885</td>\n",
       "      <td>1.904590</td>\n",
       "      <td>-0.711026</td>\n",
       "      <td>-0.544807</td>\n",
       "    </tr>\n",
       "    <tr>\n",
       "      <th>7040</th>\n",
       "      <td>1.009559</td>\n",
       "      <td>-0.439916</td>\n",
       "      <td>1.034530</td>\n",
       "      <td>1.529024</td>\n",
       "      <td>-0.870241</td>\n",
       "      <td>-3.054010</td>\n",
       "      <td>-0.854176</td>\n",
       "      <td>1.577454</td>\n",
       "      <td>-0.725563</td>\n",
       "      <td>-0.723968</td>\n",
       "      <td>...</td>\n",
       "      <td>1.381712</td>\n",
       "      <td>-0.885660</td>\n",
       "      <td>-0.525927</td>\n",
       "      <td>0.904184</td>\n",
       "      <td>-0.514249</td>\n",
       "      <td>-0.562975</td>\n",
       "      <td>-0.529885</td>\n",
       "      <td>-0.525047</td>\n",
       "      <td>1.406418</td>\n",
       "      <td>-0.544807</td>\n",
       "    </tr>\n",
       "    <tr>\n",
       "      <th>7041</th>\n",
       "      <td>-0.990532</td>\n",
       "      <td>2.273159</td>\n",
       "      <td>1.034530</td>\n",
       "      <td>-0.654012</td>\n",
       "      <td>-1.155283</td>\n",
       "      <td>0.327438</td>\n",
       "      <td>1.170719</td>\n",
       "      <td>-0.633933</td>\n",
       "      <td>-0.725563</td>\n",
       "      <td>-0.723968</td>\n",
       "      <td>...</td>\n",
       "      <td>-0.723740</td>\n",
       "      <td>1.129102</td>\n",
       "      <td>-0.525927</td>\n",
       "      <td>0.904184</td>\n",
       "      <td>-0.514249</td>\n",
       "      <td>-0.562975</td>\n",
       "      <td>-0.529885</td>\n",
       "      <td>-0.525047</td>\n",
       "      <td>-0.711026</td>\n",
       "      <td>1.835513</td>\n",
       "    </tr>\n",
       "    <tr>\n",
       "      <th>7042</th>\n",
       "      <td>-0.990532</td>\n",
       "      <td>-0.439916</td>\n",
       "      <td>-0.966622</td>\n",
       "      <td>-0.654012</td>\n",
       "      <td>1.369379</td>\n",
       "      <td>0.327438</td>\n",
       "      <td>-0.854176</td>\n",
       "      <td>1.577454</td>\n",
       "      <td>-0.725563</td>\n",
       "      <td>1.381277</td>\n",
       "      <td>...</td>\n",
       "      <td>-0.723740</td>\n",
       "      <td>1.129102</td>\n",
       "      <td>-0.525927</td>\n",
       "      <td>-1.105970</td>\n",
       "      <td>-0.514249</td>\n",
       "      <td>1.776278</td>\n",
       "      <td>1.887201</td>\n",
       "      <td>-0.525047</td>\n",
       "      <td>-0.711026</td>\n",
       "      <td>-0.544807</td>\n",
       "    </tr>\n",
       "  </tbody>\n",
       "</table>\n",
       "<p>7043 rows × 26 columns</p>\n",
       "</div>"
      ],
      "text/plain": [
       "        gender  SeniorCitizen   Partner  Dependents    tenure  PhoneService  \\\n",
       "0     1.009559      -0.439916  1.034530   -0.654012 -1.277445     -3.054010   \n",
       "1    -0.990532      -0.439916 -0.966622   -0.654012  0.066327      0.327438   \n",
       "2    -0.990532      -0.439916 -0.966622   -0.654012 -1.236724      0.327438   \n",
       "3    -0.990532      -0.439916 -0.966622   -0.654012  0.514251     -3.054010   \n",
       "4     1.009559      -0.439916 -0.966622   -0.654012 -1.236724      0.327438   \n",
       "...        ...            ...       ...         ...       ...           ...   \n",
       "7038 -0.990532      -0.439916  1.034530    1.529024 -0.340876      0.327438   \n",
       "7039  1.009559      -0.439916  1.034530    1.529024  1.613701      0.327438   \n",
       "7040  1.009559      -0.439916  1.034530    1.529024 -0.870241     -3.054010   \n",
       "7041 -0.990532       2.273159  1.034530   -0.654012 -1.155283      0.327438   \n",
       "7042 -0.990532      -0.439916 -0.966622   -0.654012  1.369379      0.327438   \n",
       "\n",
       "      MultipleLines  OnlineSecurity  OnlineBackup  DeviceProtection  ...  \\\n",
       "0         -0.854176       -0.633933      1.378241         -0.723968  ...   \n",
       "1         -0.854176        1.577454     -0.725563          1.381277  ...   \n",
       "2         -0.854176        1.577454      1.378241         -0.723968  ...   \n",
       "3         -0.854176        1.577454     -0.725563          1.381277  ...   \n",
       "4         -0.854176       -0.633933     -0.725563         -0.723968  ...   \n",
       "...             ...             ...           ...               ...  ...   \n",
       "7038       1.170719        1.577454     -0.725563          1.381277  ...   \n",
       "7039       1.170719       -0.633933      1.378241          1.381277  ...   \n",
       "7040      -0.854176        1.577454     -0.725563         -0.723968  ...   \n",
       "7041       1.170719       -0.633933     -0.725563         -0.723968  ...   \n",
       "7042      -0.854176        1.577454     -0.725563          1.381277  ...   \n",
       "\n",
       "      InternetService_DSL  InternetService_Fiber optic  InternetService_No  \\\n",
       "0                1.381712                    -0.885660           -0.525927   \n",
       "1                1.381712                    -0.885660           -0.525927   \n",
       "2                1.381712                    -0.885660           -0.525927   \n",
       "3                1.381712                    -0.885660           -0.525927   \n",
       "4               -0.723740                     1.129102           -0.525927   \n",
       "...                   ...                          ...                 ...   \n",
       "7038             1.381712                    -0.885660           -0.525927   \n",
       "7039            -0.723740                     1.129102           -0.525927   \n",
       "7040             1.381712                    -0.885660           -0.525927   \n",
       "7041            -0.723740                     1.129102           -0.525927   \n",
       "7042            -0.723740                     1.129102           -0.525927   \n",
       "\n",
       "      Contract_Month-to-month  Contract_One year  Contract_Two year  \\\n",
       "0                    0.904184          -0.514249          -0.562975   \n",
       "1                   -1.105970           1.944582          -0.562975   \n",
       "2                    0.904184          -0.514249          -0.562975   \n",
       "3                   -1.105970           1.944582          -0.562975   \n",
       "4                    0.904184          -0.514249          -0.562975   \n",
       "...                       ...                ...                ...   \n",
       "7038                -1.105970           1.944582          -0.562975   \n",
       "7039                -1.105970           1.944582          -0.562975   \n",
       "7040                 0.904184          -0.514249          -0.562975   \n",
       "7041                 0.904184          -0.514249          -0.562975   \n",
       "7042                -1.105970          -0.514249           1.776278   \n",
       "\n",
       "      PaymentMethod_Bank transfer (automatic)  \\\n",
       "0                                   -0.529885   \n",
       "1                                   -0.529885   \n",
       "2                                   -0.529885   \n",
       "3                                    1.887201   \n",
       "4                                   -0.529885   \n",
       "...                                       ...   \n",
       "7038                                -0.529885   \n",
       "7039                                -0.529885   \n",
       "7040                                -0.529885   \n",
       "7041                                -0.529885   \n",
       "7042                                 1.887201   \n",
       "\n",
       "      PaymentMethod_Credit card (automatic)  PaymentMethod_Electronic check  \\\n",
       "0                                 -0.525047                        1.406418   \n",
       "1                                 -0.525047                       -0.711026   \n",
       "2                                 -0.525047                       -0.711026   \n",
       "3                                 -0.525047                       -0.711026   \n",
       "4                                 -0.525047                        1.406418   \n",
       "...                                     ...                             ...   \n",
       "7038                              -0.525047                       -0.711026   \n",
       "7039                               1.904590                       -0.711026   \n",
       "7040                              -0.525047                        1.406418   \n",
       "7041                              -0.525047                       -0.711026   \n",
       "7042                              -0.525047                       -0.711026   \n",
       "\n",
       "      PaymentMethod_Mailed check  \n",
       "0                      -0.544807  \n",
       "1                       1.835513  \n",
       "2                       1.835513  \n",
       "3                      -0.544807  \n",
       "4                      -0.544807  \n",
       "...                          ...  \n",
       "7038                    1.835513  \n",
       "7039                   -0.544807  \n",
       "7040                   -0.544807  \n",
       "7041                    1.835513  \n",
       "7042                   -0.544807  \n",
       "\n",
       "[7043 rows x 26 columns]"
      ]
     },
     "execution_count": 23,
     "metadata": {},
     "output_type": "execute_result"
    }
   ],
   "source": [
    "ivs"
   ]
  },
  {
   "cell_type": "code",
   "execution_count": 24,
   "id": "c1463ed9",
   "metadata": {},
   "outputs": [
    {
     "data": {
      "text/plain": [
       "<bound method NDFrame.describe of 0      -0.601023\n",
       "1      -0.601023\n",
       "2       1.663829\n",
       "3      -0.601023\n",
       "4       1.663829\n",
       "          ...   \n",
       "7038   -0.601023\n",
       "7039   -0.601023\n",
       "7040   -0.601023\n",
       "7041    1.663829\n",
       "7042   -0.601023\n",
       "Name: Churn, Length: 7043, dtype: float64>"
      ]
     },
     "execution_count": 24,
     "metadata": {},
     "output_type": "execute_result"
    }
   ],
   "source": [
    "dv.describe"
   ]
  },
  {
   "cell_type": "code",
   "execution_count": 25,
   "id": "af654c98",
   "metadata": {},
   "outputs": [
    {
     "name": "stdout",
     "output_type": "stream",
     "text": [
      "the shape of IVs is:  (7043, 26)\n",
      "the shape of DV is:  (7043,)\n",
      "     gender  SeniorCitizen   Partner  Dependents    tenure  PhoneService  \\\n",
      "0  1.009559      -0.439916  1.034530   -0.654012 -1.277445     -3.054010   \n",
      "1 -0.990532      -0.439916 -0.966622   -0.654012  0.066327      0.327438   \n",
      "2 -0.990532      -0.439916 -0.966622   -0.654012 -1.236724      0.327438   \n",
      "3 -0.990532      -0.439916 -0.966622   -0.654012  0.514251     -3.054010   \n",
      "4  1.009559      -0.439916 -0.966622   -0.654012 -1.236724      0.327438   \n",
      "\n",
      "   MultipleLines  OnlineSecurity  OnlineBackup  DeviceProtection  ...  \\\n",
      "0      -0.854176       -0.633933      1.378241         -0.723968  ...   \n",
      "1      -0.854176        1.577454     -0.725563          1.381277  ...   \n",
      "2      -0.854176        1.577454      1.378241         -0.723968  ...   \n",
      "3      -0.854176        1.577454     -0.725563          1.381277  ...   \n",
      "4      -0.854176       -0.633933     -0.725563         -0.723968  ...   \n",
      "\n",
      "   InternetService_DSL  InternetService_Fiber optic  InternetService_No  \\\n",
      "0             1.381712                    -0.885660           -0.525927   \n",
      "1             1.381712                    -0.885660           -0.525927   \n",
      "2             1.381712                    -0.885660           -0.525927   \n",
      "3             1.381712                    -0.885660           -0.525927   \n",
      "4            -0.723740                     1.129102           -0.525927   \n",
      "\n",
      "   Contract_Month-to-month  Contract_One year  Contract_Two year  \\\n",
      "0                 0.904184          -0.514249          -0.562975   \n",
      "1                -1.105970           1.944582          -0.562975   \n",
      "2                 0.904184          -0.514249          -0.562975   \n",
      "3                -1.105970           1.944582          -0.562975   \n",
      "4                 0.904184          -0.514249          -0.562975   \n",
      "\n",
      "   PaymentMethod_Bank transfer (automatic)  \\\n",
      "0                                -0.529885   \n",
      "1                                -0.529885   \n",
      "2                                -0.529885   \n",
      "3                                 1.887201   \n",
      "4                                -0.529885   \n",
      "\n",
      "   PaymentMethod_Credit card (automatic)  PaymentMethod_Electronic check  \\\n",
      "0                              -0.525047                        1.406418   \n",
      "1                              -0.525047                       -0.711026   \n",
      "2                              -0.525047                       -0.711026   \n",
      "3                              -0.525047                       -0.711026   \n",
      "4                              -0.525047                        1.406418   \n",
      "\n",
      "   PaymentMethod_Mailed check  \n",
      "0                   -0.544807  \n",
      "1                    1.835513  \n",
      "2                    1.835513  \n",
      "3                   -0.544807  \n",
      "4                   -0.544807  \n",
      "\n",
      "[5 rows x 26 columns]\n",
      "0   -0.601023\n",
      "1   -0.601023\n",
      "2    1.663829\n",
      "3   -0.601023\n",
      "4    1.663829\n",
      "Name: Churn, dtype: float64\n"
     ]
    }
   ],
   "source": [
    "print('the shape of IVs is: ', ivs.shape)\n",
    "print('the shape of DV is: ', dv.shape)\n",
    "print(ivs.head())\n",
    "print(dv.head())"
   ]
  },
  {
   "cell_type": "code",
   "execution_count": 26,
   "id": "0b53b3c6",
   "metadata": {},
   "outputs": [
    {
     "data": {
      "text/plain": [
       "0   -0.601023\n",
       "1   -0.601023\n",
       "2    1.663829\n",
       "3   -0.601023\n",
       "4    1.663829\n",
       "Name: Churn, dtype: float64"
      ]
     },
     "execution_count": 26,
     "metadata": {},
     "output_type": "execute_result"
    }
   ],
   "source": [
    "dv.head()"
   ]
  },
  {
   "cell_type": "code",
   "execution_count": 27,
   "id": "3fca25cc",
   "metadata": {},
   "outputs": [
    {
     "data": {
      "image/png": "[encoded data removed]",
      "text/plain": [
       "<Figure size 640x480 with 1 Axes>"
      ]
     },
     "metadata": {},
     "output_type": "display_data"
    },
    {
     "name": "stdout",
     "output_type": "stream",
     "text": [
      "Quartiles:\n",
      "0.25   -0.601023\n",
      "0.50   -0.601023\n",
      "0.75    1.663829\n",
      "Name: Churn, dtype: float64\n",
      "Descriptive Statistics:\n",
      "count    7.043000e+03\n",
      "mean     9.070789e-16\n",
      "std      1.000071e+00\n",
      "min     -6.010235e-01\n",
      "25%     -6.010235e-01\n",
      "50%     -6.010235e-01\n",
      "75%      1.663829e+00\n",
      "max      1.663829e+00\n",
      "Name: Churn, dtype: float64\n"
     ]
    }
   ],
   "source": [
    "plt.hist(dv, bins=10)  # Adjust the number of bins as needed\n",
    "plt.xlabel('dv')\n",
    "plt.ylabel('Frequency')\n",
    "plt.title('Histogram of DV')\n",
    "plt.show()\n",
    "\n",
    "# Calculate quartiles\n",
    "quartiles = dv.quantile([0.25, 0.5, 0.75])\n",
    "print(\"Quartiles:\")\n",
    "print(quartiles)\n",
    "\n",
    "# Calculate descriptive statistics\n",
    "statistics = dv.describe()\n",
    "print(\"Descriptive Statistics:\")\n",
    "print(statistics)"
   ]
  },
  {
   "cell_type": "markdown",
   "id": "35704cac",
   "metadata": {},
   "source": [
    "# Transforming DV and mapping it to 0 and 1 based on median of DV"
   ]
  },
  {
   "cell_type": "code",
   "execution_count": 28,
   "id": "3a82c22a",
   "metadata": {},
   "outputs": [
    {
     "name": "stdout",
     "output_type": "stream",
     "text": [
      "0       0\n",
      "1       0\n",
      "2       1\n",
      "3       0\n",
      "4       1\n",
      "       ..\n",
      "7038    0\n",
      "7039    0\n",
      "7040    0\n",
      "7041    1\n",
      "7042    0\n",
      "Name: Churn, Length: 7043, dtype: int64\n"
     ]
    }
   ],
   "source": [
    "# Define the threshold as the median value of the DV\n",
    "threshold = dv.median()\n",
    "\n",
    "# Transform the DV into binary categories (0 and 1) based on the threshold\n",
    "dv_transformed = dv.apply(lambda x: 1 if x > threshold else 0)\n",
    "\n",
    "# Print the resulting dataframe\n",
    "print(dv_transformed)\n"
   ]
  },
  {
   "cell_type": "code",
   "execution_count": 29,
   "id": "376f6b15",
   "metadata": {},
   "outputs": [],
   "source": [
    "x_train, x_test, y_train, y_test = train_test_split(ivs, dv_transformed, test_size=0.2, random_state=42)"
   ]
  },
  {
   "cell_type": "code",
   "execution_count": 30,
   "id": "88db54b2",
   "metadata": {},
   "outputs": [
    {
     "name": "stdout",
     "output_type": "stream",
     "text": [
      "show data shape is:  (7043, 27)\n",
      "x_train shape is:  (5634, 26)\n",
      "x_test shape is:  (1409, 26)\n",
      "y_train shape is:  (5634,)\n",
      "y_test shape is:  (1409,)\n"
     ]
    }
   ],
   "source": [
    "print('show data shape is: ', churn_data_encoded.shape)\n",
    "print('x_train shape is: ',x_train.shape)\n",
    "print('x_test shape is: ',x_test.shape)\n",
    "print('y_train shape is: ',y_train.shape)\n",
    "print('y_test shape is: ',y_test.shape)"
   ]
  },
  {
   "cell_type": "markdown",
   "id": "ffa3e08c",
   "metadata": {},
   "source": [
    "# Cross validation using K - Fold Split"
   ]
  },
  {
   "cell_type": "code",
   "execution_count": 61,
   "id": "61642cbd",
   "metadata": {},
   "outputs": [
    {
     "name": "stdout",
     "output_type": "stream",
     "text": [
      "Classifier: LogisticRegression\n",
      "Fold 1 Accuracy: 0.8218594748048261\n",
      "Fold 2 Accuracy: 0.8090844570617459\n",
      "Fold 3 Accuracy: 0.7998580553584103\n",
      "Fold 4 Accuracy: 0.7897727272727273\n",
      "Fold 5 Accuracy: 0.8110795454545454\n",
      "Average Accuracy: 0.806330851990451\n",
      "\n",
      "Classifier: DecisionTreeClassifier\n",
      "Fold 1 Accuracy: 0.7324343506032647\n",
      "Fold 2 Accuracy: 0.7366926898509581\n",
      "Fold 3 Accuracy: 0.7331440738112136\n",
      "Fold 4 Accuracy: 0.734375\n",
      "Fold 5 Accuracy: 0.7166193181818182\n",
      "Average Accuracy: 0.730653086489451\n",
      "\n",
      "Classifier: RandomForestClassifier\n",
      "Fold 1 Accuracy: 0.7970191625266146\n",
      "Fold 2 Accuracy: 0.7998580553584103\n",
      "Fold 3 Accuracy: 0.7885024840312278\n",
      "Fold 4 Accuracy: 0.7855113636363636\n",
      "Fold 5 Accuracy: 0.7919034090909091\n",
      "Average Accuracy: 0.7925588949287051\n",
      "\n",
      "Classifier: SVC\n",
      "Fold 1 Accuracy: 0.8119233498935415\n",
      "Fold 2 Accuracy: 0.801277501774308\n",
      "Fold 3 Accuracy: 0.7877927608232789\n",
      "Fold 4 Accuracy: 0.7840909090909091\n",
      "Fold 5 Accuracy: 0.8103693181818182\n",
      "Average Accuracy: 0.7990907679527712\n",
      "\n",
      "Classifier: GaussianNB\n",
      "Fold 1 Accuracy: 0.7551454932576295\n",
      "Fold 2 Accuracy: 0.7544357700496807\n",
      "Fold 3 Accuracy: 0.7366926898509581\n",
      "Fold 4 Accuracy: 0.7386363636363636\n",
      "Fold 5 Accuracy: 0.7485795454545454\n",
      "Average Accuracy: 0.7466979724498355\n",
      "\n"
     ]
    },
    {
     "name": "stderr",
     "output_type": "stream",
     "text": [
      "C:\\Users\\Ch. Muhammad Sajjad\\anaconda3\\lib\\site-packages\\sklearn\\neighbors\\_classification.py:228: FutureWarning: Unlike other reduction functions (e.g. `skew`, `kurtosis`), the default behavior of `mode` typically preserves the axis it acts along. In SciPy 1.11.0, this behavior will change: the default value of `keepdims` will become False, the `axis` over which the statistic is taken will be eliminated, and the value None will no longer be accepted. Set `keepdims` to True or False to avoid this warning.\n",
      "  mode, _ = stats.mode(_y[neigh_ind, k], axis=1)\n",
      "C:\\Users\\Ch. Muhammad Sajjad\\anaconda3\\lib\\site-packages\\sklearn\\neighbors\\_classification.py:228: FutureWarning: Unlike other reduction functions (e.g. `skew`, `kurtosis`), the default behavior of `mode` typically preserves the axis it acts along. In SciPy 1.11.0, this behavior will change: the default value of `keepdims` will become False, the `axis` over which the statistic is taken will be eliminated, and the value None will no longer be accepted. Set `keepdims` to True or False to avoid this warning.\n",
      "  mode, _ = stats.mode(_y[neigh_ind, k], axis=1)\n",
      "C:\\Users\\Ch. Muhammad Sajjad\\anaconda3\\lib\\site-packages\\sklearn\\neighbors\\_classification.py:228: FutureWarning: Unlike other reduction functions (e.g. `skew`, `kurtosis`), the default behavior of `mode` typically preserves the axis it acts along. In SciPy 1.11.0, this behavior will change: the default value of `keepdims` will become False, the `axis` over which the statistic is taken will be eliminated, and the value None will no longer be accepted. Set `keepdims` to True or False to avoid this warning.\n",
      "  mode, _ = stats.mode(_y[neigh_ind, k], axis=1)\n",
      "C:\\Users\\Ch. Muhammad Sajjad\\anaconda3\\lib\\site-packages\\sklearn\\neighbors\\_classification.py:228: FutureWarning: Unlike other reduction functions (e.g. `skew`, `kurtosis`), the default behavior of `mode` typically preserves the axis it acts along. In SciPy 1.11.0, this behavior will change: the default value of `keepdims` will become False, the `axis` over which the statistic is taken will be eliminated, and the value None will no longer be accepted. Set `keepdims` to True or False to avoid this warning.\n",
      "  mode, _ = stats.mode(_y[neigh_ind, k], axis=1)\n"
     ]
    },
    {
     "name": "stdout",
     "output_type": "stream",
     "text": [
      "Classifier: KNeighborsClassifier\n",
      "Fold 1 Accuracy: 0.7672107877927609\n",
      "Fold 2 Accuracy: 0.7601135557132718\n",
      "Fold 3 Accuracy: 0.7374024130589071\n",
      "Fold 4 Accuracy: 0.7563920454545454\n",
      "Fold 5 Accuracy: 0.7649147727272727\n",
      "Average Accuracy: 0.7572067149493515\n",
      "\n"
     ]
    },
    {
     "name": "stderr",
     "output_type": "stream",
     "text": [
      "C:\\Users\\Ch. Muhammad Sajjad\\anaconda3\\lib\\site-packages\\sklearn\\neighbors\\_classification.py:228: FutureWarning: Unlike other reduction functions (e.g. `skew`, `kurtosis`), the default behavior of `mode` typically preserves the axis it acts along. In SciPy 1.11.0, this behavior will change: the default value of `keepdims` will become False, the `axis` over which the statistic is taken will be eliminated, and the value None will no longer be accepted. Set `keepdims` to True or False to avoid this warning.\n",
      "  mode, _ = stats.mode(_y[neigh_ind, k], axis=1)\n"
     ]
    }
   ],
   "source": [
    "\n",
    "\n",
    "# Define a list of classifier algorithms\n",
    "classifiers = [\n",
    "    LogisticRegression(),\n",
    "    DecisionTreeClassifier(),\n",
    "    RandomForestClassifier(),\n",
    "    SVC(),\n",
    "    GaussianNB(),\n",
    "    KNeighborsClassifier()    \n",
    "]\n",
    "\n",
    "# Create the K-fold cross-validator\n",
    "kfold = KFold(n_splits=5, shuffle=True, random_state=42)  # Set the number of splits (K) as desired\n",
    "\n",
    "# Perform K-fold cross-validation for each classifier\n",
    "for classifier in classifiers:\n",
    "    accuracy_scores = []  # List to store the accuracy scores for each fold\n",
    "\n",
    "    for train_index, test_index in kfold.split(ivs):\n",
    "        x_train, x_test = ivs.iloc[train_index], ivs.iloc[test_index]\n",
    "        y_train, y_test = dv_transformed.iloc[train_index], dv_transformed.iloc[test_index]\n",
    "\n",
    "        # Create and train the classifier\n",
    "        classifier.fit(x_train, y_train)\n",
    "\n",
    "        # Make predictions on the test set\n",
    "        y_pred = classifier.predict(x_test)\n",
    "\n",
    "        # Calculate accuracy and store it\n",
    "        accuracy = accuracy_score(y_test, y_pred)\n",
    "        accuracy_scores.append(accuracy)\n",
    "\n",
    "    # Print the accuracy scores for each fold\n",
    "    print(f\"Classifier: {classifier.__class__.__name__}\")\n",
    "    for fold, accuracy in enumerate(accuracy_scores):\n",
    "        print(f\"Fold {fold+1} Accuracy: {accuracy}\")\n",
    "\n",
    "    # Calculate and print the average accuracy across all folds\n",
    "    average_accuracy = sum(accuracy_scores) / len(accuracy_scores)\n",
    "    print(\"Average Accuracy:\", average_accuracy)\n",
    "    print()\n"
   ]
  },
  {
   "cell_type": "markdown",
   "id": "4cdfcde2",
   "metadata": {},
   "source": [
    "# Model Evaluation"
   ]
  },
  {
   "cell_type": "code",
   "execution_count": 32,
   "id": "10099c12",
   "metadata": {},
   "outputs": [],
   "source": [
    "Accuracy_list=[]\n",
    "\n",
    "\n",
    "\n",
    "def model_evaluation_accuracy(y_test, y_predictions):\n",
    "    accuracy = accuracy_score(y_test, y_predictions)\n",
    "    \n",
    "    Accuracy_list.append(accuracy)\n",
    "    print(\"Accuracy:\",accuracy)"
   ]
  },
  {
   "cell_type": "markdown",
   "id": "9c668a77",
   "metadata": {},
   "source": [
    "# Logistic Regression"
   ]
  },
  {
   "cell_type": "code",
   "execution_count": 33,
   "id": "764b588e",
   "metadata": {},
   "outputs": [
    {
     "name": "stdout",
     "output_type": "stream",
     "text": [
      "Accuracy: 0.8218594748048261\n",
      "27.9 ms ± 0 ns per loop (mean ± std. dev. of 1 run, 1 loop each)\n"
     ]
    }
   ],
   "source": [
    "%%timeit -n1 -r1\n",
    "logreg = LogisticRegression()\n",
    "logreg.fit(x_train, y_train)\n",
    "y_predictions = logreg.predict(x_test)\n",
    "model_evaluation_accuracy(y_test, y_predictions)\n"
   ]
  },
  {
   "cell_type": "markdown",
   "id": "b0ece6f0",
   "metadata": {},
   "source": [
    "# Random Forest Classifier"
   ]
  },
  {
   "cell_type": "code",
   "execution_count": 34,
   "id": "bda03ed6",
   "metadata": {},
   "outputs": [
    {
     "name": "stdout",
     "output_type": "stream",
     "text": [
      "Accuracy: 0.7885024840312278\n",
      "450 ms ± 0 ns per loop (mean ± std. dev. of 1 run, 1 loop each)\n"
     ]
    }
   ],
   "source": [
    "%%timeit -n1 -r1\n",
    "rfc = RandomForestClassifier()\n",
    "rfc.fit(x_train, y_train)\n",
    "y_predictions = rfc.predict(x_test)\n",
    "model_evaluation_accuracy(y_test, y_predictions)"
   ]
  },
  {
   "cell_type": "markdown",
   "id": "5f70b1dd",
   "metadata": {},
   "source": [
    "# Decision Tree Classifier"
   ]
  },
  {
   "cell_type": "code",
   "execution_count": 35,
   "id": "f42391ab",
   "metadata": {},
   "outputs": [
    {
     "name": "stdout",
     "output_type": "stream",
     "text": [
      "Accuracy: 0.730305180979418\n",
      "22.5 ms ± 0 ns per loop (mean ± std. dev. of 1 run, 1 loop each)\n"
     ]
    }
   ],
   "source": [
    "%%timeit -n1 -r1\n",
    "dtc = DecisionTreeClassifier()\n",
    "dtc.fit(x_train, y_train)\n",
    "y_predictions = dtc.predict(x_test)\n",
    "model_evaluation_accuracy(y_test, y_predictions)"
   ]
  },
  {
   "cell_type": "markdown",
   "id": "5bf5232f",
   "metadata": {},
   "source": [
    "# Support Vector Classifier"
   ]
  },
  {
   "cell_type": "code",
   "execution_count": 36,
   "id": "c211d025",
   "metadata": {},
   "outputs": [
    {
     "name": "stdout",
     "output_type": "stream",
     "text": [
      "Accuracy: 0.8119233498935415\n",
      "1.07 s ± 0 ns per loop (mean ± std. dev. of 1 run, 1 loop each)\n"
     ]
    }
   ],
   "source": [
    "%%timeit -n1 -r1\n",
    "\n",
    "svc = SVC()\n",
    "svc.fit(x_train, y_train)\n",
    "y_predictions = svc.predict(x_test)\n",
    "model_evaluation_accuracy(y_test, y_predictions)"
   ]
  },
  {
   "cell_type": "markdown",
   "id": "97f6c064",
   "metadata": {},
   "source": [
    " # Naive Bayes Classifier"
   ]
  },
  {
   "cell_type": "code",
   "execution_count": 37,
   "id": "33ab7329",
   "metadata": {},
   "outputs": [
    {
     "name": "stdout",
     "output_type": "stream",
     "text": [
      "Accuracy: 0.7551454932576295\n",
      "7.24 ms ± 0 ns per loop (mean ± std. dev. of 1 run, 1 loop each)\n"
     ]
    }
   ],
   "source": [
    "%%timeit -n1 -r1\n",
    "nb = GaussianNB()\n",
    "nb.fit(x_train, y_train)\n",
    "y_predictions = nb.predict(x_test)\n",
    "model_evaluation_accuracy(y_test, y_predictions)"
   ]
  },
  {
   "cell_type": "markdown",
   "id": "68b184e0",
   "metadata": {},
   "source": [
    "# K-Nearest Neighbors (KNN) Classifier"
   ]
  },
  {
   "cell_type": "code",
   "execution_count": 38,
   "id": "e2c4ce1c",
   "metadata": {},
   "outputs": [
    {
     "name": "stdout",
     "output_type": "stream",
     "text": [
      "Accuracy: 0.7679205110007097\n",
      "234 ms ± 0 ns per loop (mean ± std. dev. of 1 run, 1 loop each)\n"
     ]
    },
    {
     "name": "stderr",
     "output_type": "stream",
     "text": [
      "C:\\Users\\Ch. Muhammad Sajjad\\anaconda3\\lib\\site-packages\\sklearn\\neighbors\\_classification.py:228: FutureWarning: Unlike other reduction functions (e.g. `skew`, `kurtosis`), the default behavior of `mode` typically preserves the axis it acts along. In SciPy 1.11.0, this behavior will change: the default value of `keepdims` will become False, the `axis` over which the statistic is taken will be eliminated, and the value None will no longer be accepted. Set `keepdims` to True or False to avoid this warning.\n",
      "  mode, _ = stats.mode(_y[neigh_ind, k], axis=1)\n"
     ]
    }
   ],
   "source": [
    "%%timeit -n1 -r1\n",
    "knn = KNeighborsClassifier()\n",
    "knn.fit(x_train, y_train)\n",
    "y_predictions = knn.predict(x_test)\n",
    "model_evaluation_accuracy(y_test, y_predictions)"
   ]
  },
  {
   "cell_type": "code",
   "execution_count": 43,
   "id": "6a5ba6d2",
   "metadata": {
    "scrolled": true
   },
   "outputs": [
    {
     "data": {
      "text/plain": [
       "['logreg', 'rfc', 'dtc', 'svc', 'nb', 'knn']"
      ]
     },
     "execution_count": 43,
     "metadata": {},
     "output_type": "execute_result"
    }
   ],
   "source": [
    "models_list_class = ['logreg','rfc','dtc','svc','nb','knn']\n",
    "\n",
    "models_list_class\n"
   ]
  },
  {
   "cell_type": "code",
   "execution_count": 44,
   "id": "8d9d41ee",
   "metadata": {},
   "outputs": [
    {
     "data": {
      "text/plain": [
       "[0.8218594748048261,\n",
       " 0.7885024840312278,\n",
       " 0.730305180979418,\n",
       " 0.8119233498935415,\n",
       " 0.7551454932576295,\n",
       " 0.7679205110007097]"
      ]
     },
     "execution_count": 44,
     "metadata": {},
     "output_type": "execute_result"
    }
   ],
   "source": [
    "Accuracy_list"
   ]
  },
  {
   "cell_type": "code",
   "execution_count": 46,
   "id": "0ff4f636",
   "metadata": {},
   "outputs": [
    {
     "data": {
      "image/png": "[encoded data removed]",
      "text/plain": [
       "<Figure size 1000x400 with 1 Axes>"
      ]
     },
     "metadata": {},
     "output_type": "display_data"
    }
   ],
   "source": [
    "sns.set_style('darkgrid')\n",
    "\n",
    "fig,(ax1)=plt.subplots(ncols=1,figsize=(10,4));\n",
    "ax1.plot(Accuracy_list,color='green', label='Accuracy', marker=\"o\")\n",
    "ax1.legend()\n",
    "ax1.set_xticks(ticks=range(len(Accuracy_list)))\n",
    "ax1.set_xticklabels(models_list_class, rotation=90)\n",
    "ax1.set_xlabel('Classification Models', labelpad=0)\n",
    "ax1.set_ylabel('Accuracy')\n",
    "plt.show()"
   ]
  },
  {
   "cell_type": "markdown",
   "id": "eb8880d0",
   "metadata": {},
   "source": [
    "# Model Evaluation"
   ]
  },
  {
   "cell_type": "code",
   "execution_count": null,
   "id": "a6c7fe3b",
   "metadata": {},
   "outputs": [],
   "source": [
    "MAE_list=[]\n",
    "MSE_list=[]\n",
    "RMSE_list=[]\n",
    "R_Squared_list=[]\n",
    "\n",
    "\n",
    "def model_evaluation(y_test, predictions):\n",
    "    mae = metrics.mean_absolute_error(y_test, predictions)\n",
    "    mse = metrics.mean_squared_error(y_test, predictions)\n",
    "    rmse = np.sqrt(mse) # or mse**(0.5)  \n",
    "    r2 = metrics.r2_score(y_test,predictions)\n",
    "    \n",
    "    MAE_list.append(mae)\n",
    "    MSE_list.append(mse)\n",
    "    RMSE_list.append(rmse)\n",
    "    R_Squared_list.append(r2)\n",
    "    \n",
    "    print(\"Results of sklearn.metrics: \\n\")\n",
    "    print(\"MAE:\",mae)\n",
    "    print(\"MSE:\", mse)\n",
    "    print(\"RMSE:\", rmse)\n",
    "    print(\"R-Squared:\", r2)\n",
    "\n"
   ]
  },
  {
   "cell_type": "markdown",
   "id": "f2d7f93a",
   "metadata": {},
   "source": [
    "# Multiple Linear Regression"
   ]
  },
  {
   "cell_type": "code",
   "execution_count": 47,
   "id": "17169829",
   "metadata": {},
   "outputs": [
    {
     "data": {
      "text/html": [
       "<table class=\"simpletable\">\n",
       "<caption>OLS Regression Results</caption>\n",
       "<tr>\n",
       "  <th>Dep. Variable:</th>          <td>Churn</td>      <th>  R-squared (uncentered):</th>      <td>   0.203</td> \n",
       "</tr>\n",
       "<tr>\n",
       "  <th>Model:</th>                   <td>OLS</td>       <th>  Adj. R-squared (uncentered):</th> <td>   0.200</td> \n",
       "</tr>\n",
       "<tr>\n",
       "  <th>Method:</th>             <td>Least Squares</td>  <th>  F-statistic:       </th>          <td>   62.26</td> \n",
       "</tr>\n",
       "<tr>\n",
       "  <th>Date:</th>             <td>Wed, 17 May 2023</td> <th>  Prob (F-statistic):</th>          <td>8.24e-256</td>\n",
       "</tr>\n",
       "<tr>\n",
       "  <th>Time:</th>                 <td>15:31:27</td>     <th>  Log-Likelihood:    </th>          <td> -3618.5</td> \n",
       "</tr>\n",
       "<tr>\n",
       "  <th>No. Observations:</th>      <td>  5634</td>      <th>  AIC:               </th>          <td>   7283.</td> \n",
       "</tr>\n",
       "<tr>\n",
       "  <th>Df Residuals:</th>          <td>  5611</td>      <th>  BIC:               </th>          <td>   7436.</td> \n",
       "</tr>\n",
       "<tr>\n",
       "  <th>Df Model:</th>              <td>    23</td>      <th>                     </th>              <td> </td>    \n",
       "</tr>\n",
       "<tr>\n",
       "  <th>Covariance Type:</th>      <td>nonrobust</td>    <th>                     </th>              <td> </td>    \n",
       "</tr>\n",
       "</table>\n",
       "<table class=\"simpletable\">\n",
       "<tr>\n",
       "                     <td></td>                        <th>coef</th>     <th>std err</th>      <th>t</th>      <th>P>|t|</th>  <th>[0.025</th>    <th>0.975]</th>  \n",
       "</tr>\n",
       "<tr>\n",
       "  <th>gender</th>                                  <td>    0.0003</td> <td>    0.006</td> <td>    0.042</td> <td> 0.967</td> <td>   -0.012</td> <td>    0.012</td>\n",
       "</tr>\n",
       "<tr>\n",
       "  <th>SeniorCitizen</th>                           <td>    0.0124</td> <td>    0.007</td> <td>    1.873</td> <td> 0.061</td> <td>   -0.001</td> <td>    0.025</td>\n",
       "</tr>\n",
       "<tr>\n",
       "  <th>Partner</th>                                 <td>    0.0051</td> <td>    0.007</td> <td>    0.693</td> <td> 0.488</td> <td>   -0.009</td> <td>    0.020</td>\n",
       "</tr>\n",
       "<tr>\n",
       "  <th>Dependents</th>                              <td>   -0.0118</td> <td>    0.007</td> <td>   -1.635</td> <td> 0.102</td> <td>   -0.026</td> <td>    0.002</td>\n",
       "</tr>\n",
       "<tr>\n",
       "  <th>tenure</th>                                  <td>   -0.0555</td> <td>    0.016</td> <td>   -3.412</td> <td> 0.001</td> <td>   -0.087</td> <td>   -0.024</td>\n",
       "</tr>\n",
       "<tr>\n",
       "  <th>PhoneService</th>                            <td>    0.0128</td> <td>    0.036</td> <td>    0.352</td> <td> 0.725</td> <td>   -0.059</td> <td>    0.084</td>\n",
       "</tr>\n",
       "<tr>\n",
       "  <th>MultipleLines</th>                           <td>    0.0379</td> <td>    0.017</td> <td>    2.276</td> <td> 0.023</td> <td>    0.005</td> <td>    0.071</td>\n",
       "</tr>\n",
       "<tr>\n",
       "  <th>OnlineSecurity</th>                          <td>   -0.0174</td> <td>    0.016</td> <td>   -1.115</td> <td> 0.265</td> <td>   -0.048</td> <td>    0.013</td>\n",
       "</tr>\n",
       "<tr>\n",
       "  <th>OnlineBackup</th>                            <td>    0.0027</td> <td>    0.016</td> <td>    0.165</td> <td> 0.869</td> <td>   -0.029</td> <td>    0.034</td>\n",
       "</tr>\n",
       "<tr>\n",
       "  <th>DeviceProtection</th>                        <td>    0.0077</td> <td>    0.016</td> <td>    0.472</td> <td> 0.637</td> <td>   -0.024</td> <td>    0.040</td>\n",
       "</tr>\n",
       "<tr>\n",
       "  <th>TechSupport</th>                             <td>   -0.0143</td> <td>    0.016</td> <td>   -0.908</td> <td> 0.364</td> <td>   -0.045</td> <td>    0.017</td>\n",
       "</tr>\n",
       "<tr>\n",
       "  <th>StreamingTV</th>                             <td>    0.0439</td> <td>    0.030</td> <td>    1.448</td> <td> 0.148</td> <td>   -0.016</td> <td>    0.103</td>\n",
       "</tr>\n",
       "<tr>\n",
       "  <th>StreamingMovies</th>                         <td>    0.0519</td> <td>    0.030</td> <td>    1.715</td> <td> 0.086</td> <td>   -0.007</td> <td>    0.111</td>\n",
       "</tr>\n",
       "<tr>\n",
       "  <th>PaperlessBilling</th>                        <td>    0.0205</td> <td>    0.007</td> <td>    3.036</td> <td> 0.002</td> <td>    0.007</td> <td>    0.034</td>\n",
       "</tr>\n",
       "<tr>\n",
       "  <th>MonthlyCharges</th>                          <td>   -0.1326</td> <td>    0.182</td> <td>   -0.730</td> <td> 0.465</td> <td>   -0.489</td> <td>    0.223</td>\n",
       "</tr>\n",
       "<tr>\n",
       "  <th>TotalCharges</th>                            <td>   -0.0892</td> <td>    0.019</td> <td>   -4.575</td> <td> 0.000</td> <td>   -0.127</td> <td>   -0.051</td>\n",
       "</tr>\n",
       "<tr>\n",
       "  <th>InternetService_DSL</th>                     <td>   -0.0190</td> <td>    0.010</td> <td>   -1.920</td> <td> 0.055</td> <td>   -0.038</td> <td>    0.000</td>\n",
       "</tr>\n",
       "<tr>\n",
       "  <th>InternetService_Fiber optic</th>             <td>    0.1184</td> <td>    0.066</td> <td>    1.793</td> <td> 0.073</td> <td>   -0.011</td> <td>    0.248</td>\n",
       "</tr>\n",
       "<tr>\n",
       "  <th>InternetService_No</th>                      <td>   -0.1207</td> <td>    0.070</td> <td>   -1.727</td> <td> 0.084</td> <td>   -0.258</td> <td>    0.016</td>\n",
       "</tr>\n",
       "<tr>\n",
       "  <th>Contract_Month-to-month</th>                 <td>    0.0252</td> <td>    0.006</td> <td>    4.542</td> <td> 0.000</td> <td>    0.014</td> <td>    0.036</td>\n",
       "</tr>\n",
       "<tr>\n",
       "  <th>Contract_One year</th>                       <td>   -0.0185</td> <td>    0.005</td> <td>   -4.068</td> <td> 0.000</td> <td>   -0.027</td> <td>   -0.010</td>\n",
       "</tr>\n",
       "<tr>\n",
       "  <th>Contract_Two year</th>                       <td>   -0.0117</td> <td>    0.006</td> <td>   -1.987</td> <td> 0.047</td> <td>   -0.023</td> <td>   -0.000</td>\n",
       "</tr>\n",
       "<tr>\n",
       "  <th>PaymentMethod_Bank transfer (automatic)</th> <td>   -0.0076</td> <td>    0.005</td> <td>   -1.555</td> <td> 0.120</td> <td>   -0.017</td> <td>    0.002</td>\n",
       "</tr>\n",
       "<tr>\n",
       "  <th>PaymentMethod_Credit card (automatic)</th>   <td>   -0.0087</td> <td>    0.005</td> <td>   -1.773</td> <td> 0.076</td> <td>   -0.018</td> <td>    0.001</td>\n",
       "</tr>\n",
       "<tr>\n",
       "  <th>PaymentMethod_Electronic check</th>          <td>    0.0236</td> <td>    0.005</td> <td>    4.820</td> <td> 0.000</td> <td>    0.014</td> <td>    0.033</td>\n",
       "</tr>\n",
       "<tr>\n",
       "  <th>PaymentMethod_Mailed check</th>              <td>   -0.0105</td> <td>    0.005</td> <td>   -1.990</td> <td> 0.047</td> <td>   -0.021</td> <td>   -0.000</td>\n",
       "</tr>\n",
       "</table>\n",
       "<table class=\"simpletable\">\n",
       "<tr>\n",
       "  <th>Omnibus:</th>       <td>306.050</td> <th>  Durbin-Watson:     </th> <td>   1.332</td>\n",
       "</tr>\n",
       "<tr>\n",
       "  <th>Prob(Omnibus):</th> <td> 0.000</td>  <th>  Jarque-Bera (JB):  </th> <td> 326.223</td>\n",
       "</tr>\n",
       "<tr>\n",
       "  <th>Skew:</th>          <td> 0.560</td>  <th>  Prob(JB):          </th> <td>1.45e-71</td>\n",
       "</tr>\n",
       "<tr>\n",
       "  <th>Kurtosis:</th>      <td> 2.631</td>  <th>  Cond. No.          </th> <td>1.05e+16</td>\n",
       "</tr>\n",
       "</table><br/><br/>Notes:<br/>[1] R² is computed without centering (uncentered) since the model does not contain a constant.<br/>[2] Standard Errors assume that the covariance matrix of the errors is correctly specified.<br/>[3] The smallest eigenvalue is 2.87e-28. This might indicate that there are<br/>strong multicollinearity problems or that the design matrix is singular."
      ],
      "text/plain": [
       "<class 'statsmodels.iolib.summary.Summary'>\n",
       "\"\"\"\n",
       "                                 OLS Regression Results                                \n",
       "=======================================================================================\n",
       "Dep. Variable:                  Churn   R-squared (uncentered):                   0.203\n",
       "Model:                            OLS   Adj. R-squared (uncentered):              0.200\n",
       "Method:                 Least Squares   F-statistic:                              62.26\n",
       "Date:                Wed, 17 May 2023   Prob (F-statistic):                   8.24e-256\n",
       "Time:                        15:31:27   Log-Likelihood:                         -3618.5\n",
       "No. Observations:                5634   AIC:                                      7283.\n",
       "Df Residuals:                    5611   BIC:                                      7436.\n",
       "Df Model:                          23                                                  \n",
       "Covariance Type:            nonrobust                                                  \n",
       "===========================================================================================================\n",
       "                                              coef    std err          t      P>|t|      [0.025      0.975]\n",
       "-----------------------------------------------------------------------------------------------------------\n",
       "gender                                      0.0003      0.006      0.042      0.967      -0.012       0.012\n",
       "SeniorCitizen                               0.0124      0.007      1.873      0.061      -0.001       0.025\n",
       "Partner                                     0.0051      0.007      0.693      0.488      -0.009       0.020\n",
       "Dependents                                 -0.0118      0.007     -1.635      0.102      -0.026       0.002\n",
       "tenure                                     -0.0555      0.016     -3.412      0.001      -0.087      -0.024\n",
       "PhoneService                                0.0128      0.036      0.352      0.725      -0.059       0.084\n",
       "MultipleLines                               0.0379      0.017      2.276      0.023       0.005       0.071\n",
       "OnlineSecurity                             -0.0174      0.016     -1.115      0.265      -0.048       0.013\n",
       "OnlineBackup                                0.0027      0.016      0.165      0.869      -0.029       0.034\n",
       "DeviceProtection                            0.0077      0.016      0.472      0.637      -0.024       0.040\n",
       "TechSupport                                -0.0143      0.016     -0.908      0.364      -0.045       0.017\n",
       "StreamingTV                                 0.0439      0.030      1.448      0.148      -0.016       0.103\n",
       "StreamingMovies                             0.0519      0.030      1.715      0.086      -0.007       0.111\n",
       "PaperlessBilling                            0.0205      0.007      3.036      0.002       0.007       0.034\n",
       "MonthlyCharges                             -0.1326      0.182     -0.730      0.465      -0.489       0.223\n",
       "TotalCharges                               -0.0892      0.019     -4.575      0.000      -0.127      -0.051\n",
       "InternetService_DSL                        -0.0190      0.010     -1.920      0.055      -0.038       0.000\n",
       "InternetService_Fiber optic                 0.1184      0.066      1.793      0.073      -0.011       0.248\n",
       "InternetService_No                         -0.1207      0.070     -1.727      0.084      -0.258       0.016\n",
       "Contract_Month-to-month                     0.0252      0.006      4.542      0.000       0.014       0.036\n",
       "Contract_One year                          -0.0185      0.005     -4.068      0.000      -0.027      -0.010\n",
       "Contract_Two year                          -0.0117      0.006     -1.987      0.047      -0.023      -0.000\n",
       "PaymentMethod_Bank transfer (automatic)    -0.0076      0.005     -1.555      0.120      -0.017       0.002\n",
       "PaymentMethod_Credit card (automatic)      -0.0087      0.005     -1.773      0.076      -0.018       0.001\n",
       "PaymentMethod_Electronic check              0.0236      0.005      4.820      0.000       0.014       0.033\n",
       "PaymentMethod_Mailed check                 -0.0105      0.005     -1.990      0.047      -0.021      -0.000\n",
       "==============================================================================\n",
       "Omnibus:                      306.050   Durbin-Watson:                   1.332\n",
       "Prob(Omnibus):                  0.000   Jarque-Bera (JB):              326.223\n",
       "Skew:                           0.560   Prob(JB):                     1.45e-71\n",
       "Kurtosis:                       2.631   Cond. No.                     1.05e+16\n",
       "==============================================================================\n",
       "\n",
       "Notes:\n",
       "[1] R² is computed without centering (uncentered) since the model does not contain a constant.\n",
       "[2] Standard Errors assume that the covariance matrix of the errors is correctly specified.\n",
       "[3] The smallest eigenvalue is 2.87e-28. This might indicate that there are\n",
       "strong multicollinearity problems or that the design matrix is singular.\n",
       "\"\"\""
      ]
     },
     "execution_count": 47,
     "metadata": {},
     "output_type": "execute_result"
    }
   ],
   "source": [
    "regression_model = sm.OLS(y_train, x_train)\n",
    "results = regression_model.fit()\n",
    "results.summary()"
   ]
  },
  {
   "cell_type": "code",
   "execution_count": 48,
   "id": "8d557844",
   "metadata": {},
   "outputs": [
    {
     "name": "stdout",
     "output_type": "stream",
     "text": [
      "0.20333090150017719\n",
      "0.20006528231188714\n",
      "gender                                     0.966690\n",
      "SeniorCitizen                              0.061108\n",
      "Partner                                    0.488217\n",
      "Dependents                                 0.102193\n",
      "tenure                                     0.000648\n",
      "PhoneService                               0.724937\n",
      "MultipleLines                              0.022877\n",
      "OnlineSecurity                             0.265083\n",
      "OnlineBackup                               0.868633\n",
      "DeviceProtection                           0.636750\n",
      "TechSupport                                0.363960\n",
      "StreamingTV                                0.147575\n",
      "StreamingMovies                            0.086360\n",
      "PaperlessBilling                           0.002404\n",
      "MonthlyCharges                             0.465289\n",
      "TotalCharges                               0.000005\n",
      "InternetService_DSL                        0.054954\n",
      "InternetService_Fiber optic                0.072992\n",
      "InternetService_No                         0.084173\n",
      "Contract_Month-to-month                    0.000006\n",
      "Contract_One year                          0.000048\n",
      "Contract_Two year                          0.046927\n",
      "PaymentMethod_Bank transfer (automatic)    0.120031\n",
      "PaymentMethod_Credit card (automatic)      0.076216\n",
      "PaymentMethod_Electronic check             0.000001\n",
      "PaymentMethod_Mailed check                 0.046654\n",
      "dtype: float64\n",
      "gender                                     0.000257\n",
      "SeniorCitizen                              0.012376\n",
      "Partner                                    0.005142\n",
      "Dependents                                -0.011803\n",
      "tenure                                    -0.055524\n",
      "PhoneService                               0.012821\n",
      "MultipleLines                              0.037921\n",
      "OnlineSecurity                            -0.017406\n",
      "OnlineBackup                               0.002654\n",
      "DeviceProtection                           0.007670\n",
      "TechSupport                               -0.014271\n",
      "StreamingTV                                0.043921\n",
      "StreamingMovies                            0.051939\n",
      "PaperlessBilling                           0.020525\n",
      "MonthlyCharges                            -0.132612\n",
      "TotalCharges                              -0.089180\n",
      "InternetService_DSL                       -0.019036\n",
      "InternetService_Fiber optic                0.118401\n",
      "InternetService_No                        -0.120700\n",
      "Contract_Month-to-month                    0.025163\n",
      "Contract_One year                         -0.018527\n",
      "Contract_Two year                         -0.011657\n",
      "PaymentMethod_Bank transfer (automatic)   -0.007560\n",
      "PaymentMethod_Credit card (automatic)     -0.008695\n",
      "PaymentMethod_Electronic check             0.023575\n",
      "PaymentMethod_Mailed check                -0.010539\n",
      "dtype: float64\n"
     ]
    }
   ],
   "source": [
    "print(results.rsquared)\n",
    "print(results.rsquared_adj)\n",
    "print(results.pvalues)\n",
    "print(results.params)"
   ]
  },
  {
   "cell_type": "code",
   "execution_count": 49,
   "id": "33633a0f",
   "metadata": {},
   "outputs": [],
   "source": [
    "predictions = results.predict(x_test)"
   ]
  },
  {
   "cell_type": "code",
   "execution_count": 50,
   "id": "5c9736d0",
   "metadata": {
    "scrolled": true
   },
   "outputs": [
    {
     "name": "stdout",
     "output_type": "stream",
     "text": [
      "Results of sklearn.metrics: \n",
      "\n",
      "MAE: 0.343601220313391\n",
      "MSE: 0.20424290444449691\n",
      "RMSE: 0.4519324113675594\n",
      "R-Squared: -0.049301700649215796\n"
     ]
    }
   ],
   "source": [
    "model_evaluation(y_test, predictions)"
   ]
  },
  {
   "cell_type": "markdown",
   "id": "b402546e",
   "metadata": {},
   "source": [
    "# Support Vector Regression"
   ]
  },
  {
   "cell_type": "code",
   "execution_count": 51,
   "id": "23d17455",
   "metadata": {},
   "outputs": [
    {
     "name": "stdout",
     "output_type": "stream",
     "text": [
      "Results of sklearn.metrics: \n",
      "\n",
      "MAE: 0.2510338270626091\n",
      "MSE: 0.14363165298784594\n",
      "RMSE: 0.3789876686487912\n",
      "R-Squared: 0.2620897251871921\n",
      "1.25 s ± 0 ns per loop (mean ± std. dev. of 1 run, 1 loop each)\n"
     ]
    }
   ],
   "source": [
    "%%timeit -n1 -r1\n",
    "\n",
    "svr = SVR()\n",
    "svr.fit(x_train, y_train)\n",
    "predictions = svr.predict(x_test)\n",
    "model_evaluation(y_test, predictions)"
   ]
  },
  {
   "cell_type": "markdown",
   "id": "922c0fef",
   "metadata": {},
   "source": [
    "# Decision Tree Regression"
   ]
  },
  {
   "cell_type": "code",
   "execution_count": 52,
   "id": "169fb7a0",
   "metadata": {},
   "outputs": [
    {
     "name": "stdout",
     "output_type": "stream",
     "text": [
      "Results of sklearn.metrics: \n",
      "\n",
      "MAE: 0.2688668086113083\n",
      "MSE: 0.26817679993691346\n",
      "RMSE: 0.5178578955050444\n",
      "R-Squared: -0.37776327169758783\n",
      "21 ms ± 0 ns per loop (mean ± std. dev. of 1 run, 1 loop each)\n"
     ]
    }
   ],
   "source": [
    "%%timeit -n1 -r1\n",
    "\n",
    "dtr = DecisionTreeRegressor()\n",
    "dtr.fit(x_train, y_train)\n",
    "predictions = dtr.predict(x_test)\n",
    "model_evaluation(y_test, predictions)"
   ]
  },
  {
   "cell_type": "code",
   "execution_count": 53,
   "id": "f5be9093",
   "metadata": {},
   "outputs": [
    {
     "data": {
      "text/plain": [
       "['mlr', 'svr', 'decisiontr']"
      ]
     },
     "execution_count": 53,
     "metadata": {},
     "output_type": "execute_result"
    }
   ],
   "source": [
    "models_list = ['mlr', 'svr', 'decisiontr']\n",
    "models_list"
   ]
  },
  {
   "cell_type": "code",
   "execution_count": 54,
   "id": "a412c5a1",
   "metadata": {},
   "outputs": [
    {
     "data": {
      "image/png": "[encoded data removed]",
      "text/plain": [
       "<Figure size 1000x400 with 2 Axes>"
      ]
     },
     "metadata": {},
     "output_type": "display_data"
    }
   ],
   "source": [
    "sns.set_style('whitegrid')\n",
    "\n",
    "fig,(ax1,ax2)=plt.subplots(ncols=2,figsize=(10,4));\n",
    "ax1.plot(MAE_list,color='red', label='MAE', marker=\"o\")\n",
    "ax1.plot(MSE_list, color='blue', label='MSE', marker=\"o\")\n",
    "ax1.plot(RMSE_list,color='green', label='RMSE', marker=\"o\")\n",
    "ax2.plot(R_Squared_list,  color='green', label='R-Squared', marker=\"o\")\n",
    "ax1.legend()\n",
    "ax2.legend()\n",
    "ax1.set_xticks(ticks=range(len(MAE_list)))\n",
    "ax2.set_xticks(ticks=range(len(R_Squared_list)))\n",
    "ax1.set_xticklabels(models_list, rotation=90)\n",
    "ax2.set_xticklabels(models_list, rotation=90)\n",
    "ax1.set_xlabel('Regression Models', labelpad=20)\n",
    "ax2.set_xlabel('Regression Models', labelpad=20)\n",
    "ax1.set_ylabel('MAE, MSE, RMSE')\n",
    "ax2.set_ylabel('R-Squared')\n",
    "plt.show()"
   ]
  },
  {
   "cell_type": "code",
   "execution_count": null,
   "id": "29c697aa",
   "metadata": {},
   "outputs": [],
   "source": []
  }
 ],
 "metadata": {
  "kernelspec": {
   "display_name": "Python 3 (ipykernel)",
   "language": "python",
   "name": "python3"
  },
  "language_info": {
   "codemirror_mode": {
    "name": "ipython",
    "version": 3
   },
   "file_extension": ".py",
   "mimetype": "text/x-python",
   "name": "python",
   "nbconvert_exporter": "python",
   "pygments_lexer": "ipython3",
   "version": "3.9.13"
  }
 },
 "nbformat": 4,
 "nbformat_minor": 5
}
